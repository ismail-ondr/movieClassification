{
 "cells": [
  {
   "cell_type": "markdown",
   "metadata": {
    "gradient": {
     "editing": false,
     "id": "5942caf1-cf6a-494c-9473-291df74e636f",
     "kernelId": "3e5c5cc6-8e2a-4e8c-8c30-3c64f22fb7b5"
    },
    "id": "2AThoACUhlbT"
   },
   "source": [
    "# Movie Poster: can we predict the genre from it?\n",
    "![](https://miro.medium.com/max/3840/1*jbfWuj3RSAAvmJeBwLWbsw.jpeg)\n",
    "\n",
    "---\n",
    "\n",
    "Introduction\n",
    "\n",
    "> For movie viewers, the movie posters are one of the first impressions which humans use to get cues\n",
    "about the movie content and its genre. Humans can grasp the cues like color, expressions on the faces of actors etc to quickly determine the genre (horror, comedy, animation etc). It has been shown that color characteristics of an image like hues, saturation, brightness, contour etc. affect human emotions. A given situation arouses these emotions in humans. If humans are able to predict genre of a movie by a single glance at its poster, then we can assume that the color characteristics, local texture based features and structural cues of posters possess some characteristics which could be utilized in machine learning algorithms to predict its genre.\n",
    "\n"
   ]
  },
  {
   "cell_type": "markdown",
   "metadata": {
    "gradient": {
     "editing": false,
     "id": "e91104c1-bd98-495e-98a0-b27a6c35e507",
     "kernelId": "3e5c5cc6-8e2a-4e8c-8c30-3c64f22fb7b5"
    },
    "id": "L3t88TAok7jp"
   },
   "source": [
    "## 1. PREPARATION"
   ]
  },
  {
   "cell_type": "markdown",
   "metadata": {
    "gradient": {
     "editing": false,
     "id": "653b314c-b841-47a4-9ff1-4b2b930e32fa",
     "kernelId": "3e5c5cc6-8e2a-4e8c-8c30-3c64f22fb7b5"
    },
    "id": "kNm7VyI1labs"
   },
   "source": [
    "### 1.1. Import libraries"
   ]
  },
  {
   "cell_type": "code",
   "execution_count": 1,
   "metadata": {},
   "outputs": [],
   "source": [
    "#!pip install tensorflow\n",
    "#!pip install seaborn"
   ]
  },
  {
   "cell_type": "code",
   "execution_count": 2,
   "metadata": {
    "executionInfo": {
     "elapsed": 4868,
     "status": "ok",
     "timestamp": 1648222879284,
     "user": {
      "displayName": "ismail önder",
      "photoUrl": "https://lh3.googleusercontent.com/a-/AOh14GgWzUV3jVAmHFE0RJ85WTC8Oqv2BUxb0u-46Lc=s64",
      "userId": "09025349113891357800"
     },
     "user_tz": -180
    },
    "gradient": {
     "editing": false,
     "execution_count": 1,
     "id": "5399cc8f-8522-444e-ae56-acebc9aae0c8",
     "kernelId": "3e5c5cc6-8e2a-4e8c-8c30-3c64f22fb7b5"
    },
    "id": "uEfczS0Dly5L"
   },
   "outputs": [],
   "source": [
    "import shutil\n",
    "import os\n",
    "import pathlib\n",
    "import zipfile\n",
    "from glob import glob\n",
    "import logging\n",
    "import warnings\n",
    "import sys\n",
    "import sklearn\n",
    "import json\n",
    "import urllib.request\n",
    "import random\n",
    "\n",
    "import numpy as np \n",
    "import pandas as pd\n",
    "import tensorflow as tf\n",
    "from keras.preprocessing import image\n",
    "\n",
    "import matplotlib.pyplot as plt\n",
    "import matplotlib.image as mpimg\n",
    "import matplotlib.style as style\n",
    "from PIL import Image\n",
    "import seaborn as sns\n",
    "\n",
    "from tqdm import tqdm\n",
    "from itertools import chain\n",
    "from collections import Counter, defaultdict\n",
    "\n",
    "\n",
    "from keras.models import Sequential\n",
    "from keras.layers import Dense, Dropout, Flatten, BatchNormalization, MaxPool2D\n",
    "from keras.layers import Conv2D, MaxPooling2D\n",
    "\n",
    "\n",
    "warnings.filterwarnings('ignore')\n",
    "logging.getLogger(\"tensorflow\").setLevel(logging.ERROR)\n",
    "sns.set_style('white')"
   ]
  },
  {
   "cell_type": "code",
   "execution_count": 3,
   "metadata": {},
   "outputs": [
    {
     "name": "stdout",
     "output_type": "stream",
     "text": [
      "Num GPUs Available:  1\n"
     ]
    },
    {
     "name": "stderr",
     "output_type": "stream",
     "text": [
      "2022-03-26 14:46:16.534370: I tensorflow/stream_executor/cuda/cuda_gpu_executor.cc:936] successful NUMA node read from SysFS had negative value (-1), but there must be at least one NUMA node, so returning NUMA node zero\n",
      "2022-03-26 14:46:16.588727: I tensorflow/stream_executor/cuda/cuda_gpu_executor.cc:936] successful NUMA node read from SysFS had negative value (-1), but there must be at least one NUMA node, so returning NUMA node zero\n",
      "2022-03-26 14:46:16.589228: I tensorflow/stream_executor/cuda/cuda_gpu_executor.cc:936] successful NUMA node read from SysFS had negative value (-1), but there must be at least one NUMA node, so returning NUMA node zero\n"
     ]
    }
   ],
   "source": [
    "import tensorflow as tf\n",
    "print(\"Num GPUs Available: \", len(tf.config.list_physical_devices('GPU')))"
   ]
  },
  {
   "cell_type": "code",
   "execution_count": 4,
   "metadata": {
    "executionInfo": {
     "elapsed": 23,
     "status": "ok",
     "timestamp": 1648222879285,
     "user": {
      "displayName": "ismail önder",
      "photoUrl": "https://lh3.googleusercontent.com/a-/AOh14GgWzUV3jVAmHFE0RJ85WTC8Oqv2BUxb0u-46Lc=s64",
      "userId": "09025349113891357800"
     },
     "user_tz": -180
    },
    "gradient": {
     "editing": false,
     "execution_count": 2,
     "id": "b708c021-17e8-4163-a9e0-ff5403beaa82",
     "kernelId": "3e5c5cc6-8e2a-4e8c-8c30-3c64f22fb7b5"
    },
    "id": "cpq302HVHSE6"
   },
   "outputs": [],
   "source": [
    "import random"
   ]
  },
  {
   "cell_type": "code",
   "execution_count": 5,
   "metadata": {
    "executionInfo": {
     "elapsed": 21,
     "status": "ok",
     "timestamp": 1648222879286,
     "user": {
      "displayName": "ismail önder",
      "photoUrl": "https://lh3.googleusercontent.com/a-/AOh14GgWzUV3jVAmHFE0RJ85WTC8Oqv2BUxb0u-46Lc=s64",
      "userId": "09025349113891357800"
     },
     "user_tz": -180
    },
    "gradient": {
     "editing": false,
     "execution_count": 3,
     "id": "6270b301-572b-440a-8942-df5593256f60",
     "kernelId": "3e5c5cc6-8e2a-4e8c-8c30-3c64f22fb7b5"
    },
    "id": "6OE_fMgLlUem"
   },
   "outputs": [],
   "source": [
    "#!git clone https://github.com/ismail-ondr/movieClassification.git"
   ]
  },
  {
   "cell_type": "markdown",
   "metadata": {
    "gradient": {
     "editing": false,
     "id": "8fe4c75b-0e9a-492a-bd7e-4f119362afe9",
     "kernelId": "3e5c5cc6-8e2a-4e8c-8c30-3c64f22fb7b5"
    },
    "id": "0jwd50h6276_"
   },
   "source": [
    "### 1.2 Locate dataset"
   ]
  },
  {
   "cell_type": "code",
   "execution_count": 6,
   "metadata": {
    "executionInfo": {
     "elapsed": 21,
     "status": "ok",
     "timestamp": 1648222879287,
     "user": {
      "displayName": "ismail önder",
      "photoUrl": "https://lh3.googleusercontent.com/a-/AOh14GgWzUV3jVAmHFE0RJ85WTC8Oqv2BUxb0u-46Lc=s64",
      "userId": "09025349113891357800"
     },
     "user_tz": -180
    },
    "gradient": {
     "editing": false,
     "execution_count": 4,
     "id": "34eff223-4ae0-4899-94dc-3dbc8f38ab80",
     "kernelId": "3e5c5cc6-8e2a-4e8c-8c30-3c64f22fb7b5"
    },
    "id": "_3UQMAGy0nzD"
   },
   "outputs": [],
   "source": [
    "PROJECT_FOLDER = 'movieClassification'\n",
    "DATASET_PATH = os.path.join(PROJECT_FOLDER, \"dataset\")\n",
    "DATASET_RAW_PATH = os.path.join(DATASET_PATH, \"raw\")\n"
   ]
  },
  {
   "cell_type": "markdown",
   "metadata": {
    "id": "sj0WxuD-3KM7"
   },
   "source": [
    "### 1.3 Clean and download data"
   ]
  },
  {
   "cell_type": "markdown",
   "metadata": {
    "id": "348aQUNZ3W3t"
   },
   "source": [
    "Our dataset is a csv file that contain ....."
   ]
  },
  {
   "cell_type": "code",
   "execution_count": 7,
   "metadata": {
    "colab": {
     "base_uri": "https://localhost:8080/",
     "height": 852
    },
    "executionInfo": {
     "elapsed": 663,
     "status": "ok",
     "timestamp": 1648222879930,
     "user": {
      "displayName": "ismail önder",
      "photoUrl": "https://lh3.googleusercontent.com/a-/AOh14GgWzUV3jVAmHFE0RJ85WTC8Oqv2BUxb0u-46Lc=s64",
      "userId": "09025349113891357800"
     },
     "user_tz": -180
    },
    "gradient": {
     "execution_count": 5,
     "id": "46ac651f-37b6-49a1-a14d-ea78816b6db6",
     "kernelId": "3e5c5cc6-8e2a-4e8c-8c30-3c64f22fb7b5"
    },
    "id": "i0-pD4dViK0z",
    "outputId": "c2d1710c-0d59-438b-db17-fbb37742ec63"
   },
   "outputs": [
    {
     "data": {
      "text/html": [
       "<div>\n",
       "<style scoped>\n",
       "    .dataframe tbody tr th:only-of-type {\n",
       "        vertical-align: middle;\n",
       "    }\n",
       "\n",
       "    .dataframe tbody tr th {\n",
       "        vertical-align: top;\n",
       "    }\n",
       "\n",
       "    .dataframe thead th {\n",
       "        text-align: right;\n",
       "    }\n",
       "</style>\n",
       "<table border=\"1\" class=\"dataframe\">\n",
       "  <thead>\n",
       "    <tr style=\"text-align: right;\">\n",
       "      <th></th>\n",
       "      <th>imdbId</th>\n",
       "      <th>Imdb Link</th>\n",
       "      <th>Title</th>\n",
       "      <th>IMDB Score</th>\n",
       "      <th>Genre</th>\n",
       "      <th>Poster</th>\n",
       "    </tr>\n",
       "  </thead>\n",
       "  <tbody>\n",
       "    <tr>\n",
       "      <th>0</th>\n",
       "      <td>114709</td>\n",
       "      <td>http://www.imdb.com/title/tt114709</td>\n",
       "      <td>Toy Story (1995)</td>\n",
       "      <td>8.3</td>\n",
       "      <td>Animation|Adventure|Comedy</td>\n",
       "      <td>https://images-na.ssl-images-amazon.com/images/M/MV5BMDU2ZWJlMjktMTRhMy00ZTA5LWEzNDgtYmNmZTEwZTViZWJkXkEyXkFqcGdeQXVyNDQ2OTk4MzI@._V1_UX182_CR0,0,182,268_AL_.jpg</td>\n",
       "    </tr>\n",
       "    <tr>\n",
       "      <th>1</th>\n",
       "      <td>113497</td>\n",
       "      <td>http://www.imdb.com/title/tt113497</td>\n",
       "      <td>Jumanji (1995)</td>\n",
       "      <td>6.9</td>\n",
       "      <td>Action|Adventure|Family</td>\n",
       "      <td>https://images-na.ssl-images-amazon.com/images/M/MV5BZTk2ZmUwYmEtNTcwZS00YmMyLWFkYjMtNTRmZDA3YWExMjc2XkEyXkFqcGdeQXVyMTQxNzMzNDI@._V1_UY268_CR10,0,182,268_AL_.jpg</td>\n",
       "    </tr>\n",
       "    <tr>\n",
       "      <th>2</th>\n",
       "      <td>113228</td>\n",
       "      <td>http://www.imdb.com/title/tt113228</td>\n",
       "      <td>Grumpier Old Men (1995)</td>\n",
       "      <td>6.6</td>\n",
       "      <td>Comedy|Romance</td>\n",
       "      <td>https://images-na.ssl-images-amazon.com/images/M/MV5BMjQxM2YyNjMtZjUxYy00OGYyLTg0MmQtNGE2YzNjYmUyZTY1XkEyXkFqcGdeQXVyMTQxNzMzNDI@._V1_UX182_CR0,0,182,268_AL_.jpg</td>\n",
       "    </tr>\n",
       "    <tr>\n",
       "      <th>3</th>\n",
       "      <td>114885</td>\n",
       "      <td>http://www.imdb.com/title/tt114885</td>\n",
       "      <td>Waiting to Exhale (1995)</td>\n",
       "      <td>5.7</td>\n",
       "      <td>Comedy|Drama|Romance</td>\n",
       "      <td>https://images-na.ssl-images-amazon.com/images/M/MV5BMTczMTMyMTgyM15BMl5BanBnXkFtZTcwOTc4OTQyMQ@@._V1_UY268_CR4,0,182,268_AL_.jpg</td>\n",
       "    </tr>\n",
       "    <tr>\n",
       "      <th>4</th>\n",
       "      <td>113041</td>\n",
       "      <td>http://www.imdb.com/title/tt113041</td>\n",
       "      <td>Father of the Bride Part II (1995)</td>\n",
       "      <td>5.9</td>\n",
       "      <td>Comedy|Family|Romance</td>\n",
       "      <td>https://images-na.ssl-images-amazon.com/images/M/MV5BOTEyNzg5NjYtNDU4OS00MWYxLWJhMTItYWU4NTkyNDBmM2Y0XkEyXkFqcGdeQXVyMTQxNzMzNDI@._V1_UX182_CR0,0,182,268_AL_.jpg</td>\n",
       "    </tr>\n",
       "    <tr>\n",
       "      <th>...</th>\n",
       "      <td>...</td>\n",
       "      <td>...</td>\n",
       "      <td>...</td>\n",
       "      <td>...</td>\n",
       "      <td>...</td>\n",
       "      <td>...</td>\n",
       "    </tr>\n",
       "    <tr>\n",
       "      <th>40103</th>\n",
       "      <td>83168</td>\n",
       "      <td>http://www.imdb.com/title/tt83168</td>\n",
       "      <td>Tanya's Island (1980)</td>\n",
       "      <td>4.3</td>\n",
       "      <td>Drama</td>\n",
       "      <td>https://images-na.ssl-images-amazon.com/images/M/MV5BMTQ1NzY4OTA1Ml5BMl5BanBnXkFtZTcwOTEzNjcyMQ@@._V1_UY268_CR4,0,182,268_AL_.jpg</td>\n",
       "    </tr>\n",
       "    <tr>\n",
       "      <th>40104</th>\n",
       "      <td>82875</td>\n",
       "      <td>http://www.imdb.com/title/tt82875</td>\n",
       "      <td>Pacific Banana (1981)</td>\n",
       "      <td>4.7</td>\n",
       "      <td>Comedy</td>\n",
       "      <td>https://images-na.ssl-images-amazon.com/images/M/MV5BMTQ3MzU2NzM4OF5BMl5BanBnXkFtZTcwMDIxNDMzMQ@@._V1_UY268_CR4,0,182,268_AL_.jpg</td>\n",
       "    </tr>\n",
       "    <tr>\n",
       "      <th>40105</th>\n",
       "      <td>815258</td>\n",
       "      <td>http://www.imdb.com/title/tt815258</td>\n",
       "      <td>Werewolf in a Womens Prison (2006)</td>\n",
       "      <td>4.5</td>\n",
       "      <td>Horror</td>\n",
       "      <td>https://images-na.ssl-images-amazon.com/images/M/MV5BMTY1MzAyMDk3Nl5BMl5BanBnXkFtZTcwMjI0Mzk2MQ@@._V1_UY268_CR4,0,182,268_AL_.jpg</td>\n",
       "    </tr>\n",
       "    <tr>\n",
       "      <th>40106</th>\n",
       "      <td>79142</td>\n",
       "      <td>http://www.imdb.com/title/tt79142</td>\n",
       "      <td>Xiao zi ming da (1979)</td>\n",
       "      <td>6.5</td>\n",
       "      <td>Action|Comedy</td>\n",
       "      <td>https://images-na.ssl-images-amazon.com/images/M/MV5BMjA0NTQ2MTc0OF5BMl5BanBnXkFtZTYwMzU0NjQ5._V1_UX182_CR0,0,182,268_AL_.jpg</td>\n",
       "    </tr>\n",
       "    <tr>\n",
       "      <th>40107</th>\n",
       "      <td>70710</td>\n",
       "      <td>http://www.imdb.com/title/tt70710</td>\n",
       "      <td>Snatched (1973)</td>\n",
       "      <td>6.5</td>\n",
       "      <td>Crime|Drama|Thriller</td>\n",
       "      <td>NaN</td>\n",
       "    </tr>\n",
       "  </tbody>\n",
       "</table>\n",
       "<p>40108 rows × 6 columns</p>\n",
       "</div>"
      ],
      "text/plain": [
       "       imdbId                           Imdb Link  \\\n",
       "0      114709  http://www.imdb.com/title/tt114709   \n",
       "1      113497  http://www.imdb.com/title/tt113497   \n",
       "2      113228  http://www.imdb.com/title/tt113228   \n",
       "3      114885  http://www.imdb.com/title/tt114885   \n",
       "4      113041  http://www.imdb.com/title/tt113041   \n",
       "...       ...                                 ...   \n",
       "40103  83168   http://www.imdb.com/title/tt83168    \n",
       "40104  82875   http://www.imdb.com/title/tt82875    \n",
       "40105  815258  http://www.imdb.com/title/tt815258   \n",
       "40106  79142   http://www.imdb.com/title/tt79142    \n",
       "40107  70710   http://www.imdb.com/title/tt70710    \n",
       "\n",
       "                                    Title  IMDB Score  \\\n",
       "0      Toy Story (1995)                    8.3          \n",
       "1      Jumanji (1995)                      6.9          \n",
       "2      Grumpier Old Men (1995)             6.6          \n",
       "3      Waiting to Exhale (1995)            5.7          \n",
       "4      Father of the Bride Part II (1995)  5.9          \n",
       "...                                   ...  ...          \n",
       "40103  Tanya's Island (1980)               4.3          \n",
       "40104  Pacific Banana (1981)               4.7          \n",
       "40105  Werewolf in a Womens Prison (2006)  4.5          \n",
       "40106  Xiao zi ming da (1979)              6.5          \n",
       "40107  Snatched (1973)                     6.5          \n",
       "\n",
       "                            Genre  \\\n",
       "0      Animation|Adventure|Comedy   \n",
       "1      Action|Adventure|Family      \n",
       "2      Comedy|Romance               \n",
       "3      Comedy|Drama|Romance         \n",
       "4      Comedy|Family|Romance        \n",
       "...                      ...        \n",
       "40103  Drama                        \n",
       "40104  Comedy                       \n",
       "40105  Horror                       \n",
       "40106  Action|Comedy                \n",
       "40107  Crime|Drama|Thriller         \n",
       "\n",
       "                                                                                                                                                                   Poster  \n",
       "0      https://images-na.ssl-images-amazon.com/images/M/MV5BMDU2ZWJlMjktMTRhMy00ZTA5LWEzNDgtYmNmZTEwZTViZWJkXkEyXkFqcGdeQXVyNDQ2OTk4MzI@._V1_UX182_CR0,0,182,268_AL_.jpg   \n",
       "1      https://images-na.ssl-images-amazon.com/images/M/MV5BZTk2ZmUwYmEtNTcwZS00YmMyLWFkYjMtNTRmZDA3YWExMjc2XkEyXkFqcGdeQXVyMTQxNzMzNDI@._V1_UY268_CR10,0,182,268_AL_.jpg  \n",
       "2      https://images-na.ssl-images-amazon.com/images/M/MV5BMjQxM2YyNjMtZjUxYy00OGYyLTg0MmQtNGE2YzNjYmUyZTY1XkEyXkFqcGdeQXVyMTQxNzMzNDI@._V1_UX182_CR0,0,182,268_AL_.jpg   \n",
       "3      https://images-na.ssl-images-amazon.com/images/M/MV5BMTczMTMyMTgyM15BMl5BanBnXkFtZTcwOTc4OTQyMQ@@._V1_UY268_CR4,0,182,268_AL_.jpg                                   \n",
       "4      https://images-na.ssl-images-amazon.com/images/M/MV5BOTEyNzg5NjYtNDU4OS00MWYxLWJhMTItYWU4NTkyNDBmM2Y0XkEyXkFqcGdeQXVyMTQxNzMzNDI@._V1_UX182_CR0,0,182,268_AL_.jpg   \n",
       "...                                                                                                                                                                  ...   \n",
       "40103  https://images-na.ssl-images-amazon.com/images/M/MV5BMTQ1NzY4OTA1Ml5BMl5BanBnXkFtZTcwOTEzNjcyMQ@@._V1_UY268_CR4,0,182,268_AL_.jpg                                   \n",
       "40104  https://images-na.ssl-images-amazon.com/images/M/MV5BMTQ3MzU2NzM4OF5BMl5BanBnXkFtZTcwMDIxNDMzMQ@@._V1_UY268_CR4,0,182,268_AL_.jpg                                   \n",
       "40105  https://images-na.ssl-images-amazon.com/images/M/MV5BMTY1MzAyMDk3Nl5BMl5BanBnXkFtZTcwMjI0Mzk2MQ@@._V1_UY268_CR4,0,182,268_AL_.jpg                                   \n",
       "40106  https://images-na.ssl-images-amazon.com/images/M/MV5BMjA0NTQ2MTc0OF5BMl5BanBnXkFtZTYwMzU0NjQ5._V1_UX182_CR0,0,182,268_AL_.jpg                                       \n",
       "40107  NaN                                                                                                                                                                 \n",
       "\n",
       "[40108 rows x 6 columns]"
      ]
     },
     "execution_count": 7,
     "metadata": {},
     "output_type": "execute_result"
    }
   ],
   "source": [
    "# Take a look at the csv file\n",
    "pd.set_option('display.max_colwidth', -1)\n",
    "movie = pd.read_csv(PROJECT_FOLDER+\"/MovieGenre.csv\", encoding=\"ISO-8859-1\", engine='python')\n",
    "movie"
   ]
  },
  {
   "cell_type": "code",
   "execution_count": 8,
   "metadata": {
    "colab": {
     "base_uri": "https://localhost:8080/"
    },
    "executionInfo": {
     "elapsed": 18,
     "status": "ok",
     "timestamp": 1648222879932,
     "user": {
      "displayName": "ismail önder",
      "photoUrl": "https://lh3.googleusercontent.com/a-/AOh14GgWzUV3jVAmHFE0RJ85WTC8Oqv2BUxb0u-46Lc=s64",
      "userId": "09025349113891357800"
     },
     "user_tz": -180
    },
    "gradient": {
     "execution_count": 6,
     "id": "cccc6156-f506-4f9b-8610-2a4733d9f4c2",
     "kernelId": "3e5c5cc6-8e2a-4e8c-8c30-3c64f22fb7b5"
    },
    "id": "mUi9EF3w0nzL",
    "outputId": "80f5a970-6903-46a0-d873-a906cb0fb246"
   },
   "outputs": [
    {
     "name": "stdout",
     "output_type": "stream",
     "text": [
      "imdbId        0  \n",
      "Imdb Link     0  \n",
      "Title         0  \n",
      "IMDB Score    48 \n",
      "Genre         145\n",
      "Poster        725\n",
      "dtype: int64\n",
      "Number of duplicated rows:  593\n"
     ]
    }
   ],
   "source": [
    "# Checking the data frame\n",
    "print(movie.isnull().sum())\n",
    "print('Number of duplicated rows: ', movie.duplicated().sum())"
   ]
  },
  {
   "cell_type": "code",
   "execution_count": 9,
   "metadata": {
    "executionInfo": {
     "elapsed": 574,
     "status": "ok",
     "timestamp": 1648222880498,
     "user": {
      "displayName": "ismail önder",
      "photoUrl": "https://lh3.googleusercontent.com/a-/AOh14GgWzUV3jVAmHFE0RJ85WTC8Oqv2BUxb0u-46Lc=s64",
      "userId": "09025349113891357800"
     },
     "user_tz": -180
    },
    "gradient": {
     "execution_count": 7,
     "id": "6c2b26c9-b3f8-466e-8e25-c6cac9e6a1ae",
     "kernelId": "3e5c5cc6-8e2a-4e8c-8c30-3c64f22fb7b5"
    },
    "id": "-kukaVDj0nzQ"
   },
   "outputs": [],
   "source": [
    "# Drop null and duplicated:\n",
    "movie.dropna(axis = 0, inplace = True)\n",
    "movie.drop_duplicates(inplace = True)\n",
    "\n",
    "# Drop urls don't contain \".jpg\"\n",
    "movie = movie[movie['Poster'].str.endswith('jpg')]\n",
    "\n",
    "movie.reset_index(drop=True, inplace=True)"
   ]
  },
  {
   "cell_type": "markdown",
   "metadata": {
    "id": "APGXeIGv0nzW"
   },
   "source": [
    "We start downloading all posters from the corrispondent link and we save each of them using as name of the related movie. In this way we maintain the relationship between movies and their poster images.\n",
    "\n",
    "Note: some images could be corrupted during the download or they may not be found at all. For those reasons we check for corrupted images after download and also we drop from dataset rows corresponding to movie whose poster was not found."
   ]
  },
  {
   "cell_type": "markdown",
   "metadata": {
    "id": "LnzHk27Q_FSR"
   },
   "source": [
    "Remove movies that don't have poster image "
   ]
  },
  {
   "cell_type": "code",
   "execution_count": 10,
   "metadata": {
    "colab": {
     "base_uri": "https://localhost:8080/",
     "height": 870
    },
    "executionInfo": {
     "elapsed": 39,
     "status": "ok",
     "timestamp": 1648222880500,
     "user": {
      "displayName": "ismail önder",
      "photoUrl": "https://lh3.googleusercontent.com/a-/AOh14GgWzUV3jVAmHFE0RJ85WTC8Oqv2BUxb0u-46Lc=s64",
      "userId": "09025349113891357800"
     },
     "user_tz": -180
    },
    "gradient": {
     "execution_count": 8,
     "id": "31a00946-21ff-4101-85d5-03045fa2a782",
     "kernelId": "3e5c5cc6-8e2a-4e8c-8c30-3c64f22fb7b5"
    },
    "id": "X4Gx-lhVd-0-",
    "outputId": "13428c5c-ff99-4fa1-d9de-b3ca1d71210c"
   },
   "outputs": [
    {
     "data": {
      "text/html": [
       "<div>\n",
       "<style scoped>\n",
       "    .dataframe tbody tr th:only-of-type {\n",
       "        vertical-align: middle;\n",
       "    }\n",
       "\n",
       "    .dataframe tbody tr th {\n",
       "        vertical-align: top;\n",
       "    }\n",
       "\n",
       "    .dataframe thead th {\n",
       "        text-align: right;\n",
       "    }\n",
       "</style>\n",
       "<table border=\"1\" class=\"dataframe\">\n",
       "  <thead>\n",
       "    <tr style=\"text-align: right;\">\n",
       "      <th></th>\n",
       "      <th>imdbId</th>\n",
       "      <th>Imdb Link</th>\n",
       "      <th>Title</th>\n",
       "      <th>IMDB Score</th>\n",
       "      <th>Genre</th>\n",
       "      <th>Poster</th>\n",
       "    </tr>\n",
       "  </thead>\n",
       "  <tbody>\n",
       "    <tr>\n",
       "      <th>0</th>\n",
       "      <td>114709</td>\n",
       "      <td>http://www.imdb.com/title/tt114709</td>\n",
       "      <td>Toy Story (1995)</td>\n",
       "      <td>8.3</td>\n",
       "      <td>Animation|Adventure|Comedy</td>\n",
       "      <td>https://images-na.ssl-images-amazon.com/images/M/MV5BMDU2ZWJlMjktMTRhMy00ZTA5LWEzNDgtYmNmZTEwZTViZWJkXkEyXkFqcGdeQXVyNDQ2OTk4MzI@._V1_UX182_CR0,0,182,268_AL_.jpg</td>\n",
       "    </tr>\n",
       "    <tr>\n",
       "      <th>1</th>\n",
       "      <td>113497</td>\n",
       "      <td>http://www.imdb.com/title/tt113497</td>\n",
       "      <td>Jumanji (1995)</td>\n",
       "      <td>6.9</td>\n",
       "      <td>Action|Adventure|Family</td>\n",
       "      <td>https://images-na.ssl-images-amazon.com/images/M/MV5BZTk2ZmUwYmEtNTcwZS00YmMyLWFkYjMtNTRmZDA3YWExMjc2XkEyXkFqcGdeQXVyMTQxNzMzNDI@._V1_UY268_CR10,0,182,268_AL_.jpg</td>\n",
       "    </tr>\n",
       "    <tr>\n",
       "      <th>2</th>\n",
       "      <td>113228</td>\n",
       "      <td>http://www.imdb.com/title/tt113228</td>\n",
       "      <td>Grumpier Old Men (1995)</td>\n",
       "      <td>6.6</td>\n",
       "      <td>Comedy|Romance</td>\n",
       "      <td>https://images-na.ssl-images-amazon.com/images/M/MV5BMjQxM2YyNjMtZjUxYy00OGYyLTg0MmQtNGE2YzNjYmUyZTY1XkEyXkFqcGdeQXVyMTQxNzMzNDI@._V1_UX182_CR0,0,182,268_AL_.jpg</td>\n",
       "    </tr>\n",
       "    <tr>\n",
       "      <th>3</th>\n",
       "      <td>114885</td>\n",
       "      <td>http://www.imdb.com/title/tt114885</td>\n",
       "      <td>Waiting to Exhale (1995)</td>\n",
       "      <td>5.7</td>\n",
       "      <td>Comedy|Drama|Romance</td>\n",
       "      <td>https://images-na.ssl-images-amazon.com/images/M/MV5BMTczMTMyMTgyM15BMl5BanBnXkFtZTcwOTc4OTQyMQ@@._V1_UY268_CR4,0,182,268_AL_.jpg</td>\n",
       "    </tr>\n",
       "    <tr>\n",
       "      <th>4</th>\n",
       "      <td>113041</td>\n",
       "      <td>http://www.imdb.com/title/tt113041</td>\n",
       "      <td>Father of the Bride Part II (1995)</td>\n",
       "      <td>5.9</td>\n",
       "      <td>Comedy|Family|Romance</td>\n",
       "      <td>https://images-na.ssl-images-amazon.com/images/M/MV5BOTEyNzg5NjYtNDU4OS00MWYxLWJhMTItYWU4NTkyNDBmM2Y0XkEyXkFqcGdeQXVyMTQxNzMzNDI@._V1_UX182_CR0,0,182,268_AL_.jpg</td>\n",
       "    </tr>\n",
       "    <tr>\n",
       "      <th>...</th>\n",
       "      <td>...</td>\n",
       "      <td>...</td>\n",
       "      <td>...</td>\n",
       "      <td>...</td>\n",
       "      <td>...</td>\n",
       "      <td>...</td>\n",
       "    </tr>\n",
       "    <tr>\n",
       "      <th>38633</th>\n",
       "      <td>83291</td>\n",
       "      <td>http://www.imdb.com/title/tt83291</td>\n",
       "      <td>Los violadores (1981)</td>\n",
       "      <td>5.5</td>\n",
       "      <td>Action|Thriller</td>\n",
       "      <td>https://images-na.ssl-images-amazon.com/images/M/MV5BMTk3YmM3ZjktZDg0MS00NDc1LTk1MmUtZDBiM2QyNjMxNDdkXkEyXkFqcGdeQXVyMjUyNDk2ODc@._V1_UY268_CR3,0,182,268_AL_.jpg</td>\n",
       "    </tr>\n",
       "    <tr>\n",
       "      <th>38634</th>\n",
       "      <td>83168</td>\n",
       "      <td>http://www.imdb.com/title/tt83168</td>\n",
       "      <td>Tanya's Island (1980)</td>\n",
       "      <td>4.3</td>\n",
       "      <td>Drama</td>\n",
       "      <td>https://images-na.ssl-images-amazon.com/images/M/MV5BMTQ1NzY4OTA1Ml5BMl5BanBnXkFtZTcwOTEzNjcyMQ@@._V1_UY268_CR4,0,182,268_AL_.jpg</td>\n",
       "    </tr>\n",
       "    <tr>\n",
       "      <th>38635</th>\n",
       "      <td>82875</td>\n",
       "      <td>http://www.imdb.com/title/tt82875</td>\n",
       "      <td>Pacific Banana (1981)</td>\n",
       "      <td>4.7</td>\n",
       "      <td>Comedy</td>\n",
       "      <td>https://images-na.ssl-images-amazon.com/images/M/MV5BMTQ3MzU2NzM4OF5BMl5BanBnXkFtZTcwMDIxNDMzMQ@@._V1_UY268_CR4,0,182,268_AL_.jpg</td>\n",
       "    </tr>\n",
       "    <tr>\n",
       "      <th>38636</th>\n",
       "      <td>815258</td>\n",
       "      <td>http://www.imdb.com/title/tt815258</td>\n",
       "      <td>Werewolf in a Womens Prison (2006)</td>\n",
       "      <td>4.5</td>\n",
       "      <td>Horror</td>\n",
       "      <td>https://images-na.ssl-images-amazon.com/images/M/MV5BMTY1MzAyMDk3Nl5BMl5BanBnXkFtZTcwMjI0Mzk2MQ@@._V1_UY268_CR4,0,182,268_AL_.jpg</td>\n",
       "    </tr>\n",
       "    <tr>\n",
       "      <th>38637</th>\n",
       "      <td>79142</td>\n",
       "      <td>http://www.imdb.com/title/tt79142</td>\n",
       "      <td>Xiao zi ming da (1979)</td>\n",
       "      <td>6.5</td>\n",
       "      <td>Action|Comedy</td>\n",
       "      <td>https://images-na.ssl-images-amazon.com/images/M/MV5BMjA0NTQ2MTc0OF5BMl5BanBnXkFtZTYwMzU0NjQ5._V1_UX182_CR0,0,182,268_AL_.jpg</td>\n",
       "    </tr>\n",
       "  </tbody>\n",
       "</table>\n",
       "<p>35925 rows × 6 columns</p>\n",
       "</div>"
      ],
      "text/plain": [
       "       imdbId                           Imdb Link  \\\n",
       "0      114709  http://www.imdb.com/title/tt114709   \n",
       "1      113497  http://www.imdb.com/title/tt113497   \n",
       "2      113228  http://www.imdb.com/title/tt113228   \n",
       "3      114885  http://www.imdb.com/title/tt114885   \n",
       "4      113041  http://www.imdb.com/title/tt113041   \n",
       "...       ...                                 ...   \n",
       "38633  83291   http://www.imdb.com/title/tt83291    \n",
       "38634  83168   http://www.imdb.com/title/tt83168    \n",
       "38635  82875   http://www.imdb.com/title/tt82875    \n",
       "38636  815258  http://www.imdb.com/title/tt815258   \n",
       "38637  79142   http://www.imdb.com/title/tt79142    \n",
       "\n",
       "                                    Title  IMDB Score  \\\n",
       "0      Toy Story (1995)                    8.3          \n",
       "1      Jumanji (1995)                      6.9          \n",
       "2      Grumpier Old Men (1995)             6.6          \n",
       "3      Waiting to Exhale (1995)            5.7          \n",
       "4      Father of the Bride Part II (1995)  5.9          \n",
       "...                                   ...  ...          \n",
       "38633  Los violadores (1981)               5.5          \n",
       "38634  Tanya's Island (1980)               4.3          \n",
       "38635  Pacific Banana (1981)               4.7          \n",
       "38636  Werewolf in a Womens Prison (2006)  4.5          \n",
       "38637  Xiao zi ming da (1979)              6.5          \n",
       "\n",
       "                            Genre  \\\n",
       "0      Animation|Adventure|Comedy   \n",
       "1      Action|Adventure|Family      \n",
       "2      Comedy|Romance               \n",
       "3      Comedy|Drama|Romance         \n",
       "4      Comedy|Family|Romance        \n",
       "...                      ...        \n",
       "38633  Action|Thriller              \n",
       "38634  Drama                        \n",
       "38635  Comedy                       \n",
       "38636  Horror                       \n",
       "38637  Action|Comedy                \n",
       "\n",
       "                                                                                                                                                                   Poster  \n",
       "0      https://images-na.ssl-images-amazon.com/images/M/MV5BMDU2ZWJlMjktMTRhMy00ZTA5LWEzNDgtYmNmZTEwZTViZWJkXkEyXkFqcGdeQXVyNDQ2OTk4MzI@._V1_UX182_CR0,0,182,268_AL_.jpg   \n",
       "1      https://images-na.ssl-images-amazon.com/images/M/MV5BZTk2ZmUwYmEtNTcwZS00YmMyLWFkYjMtNTRmZDA3YWExMjc2XkEyXkFqcGdeQXVyMTQxNzMzNDI@._V1_UY268_CR10,0,182,268_AL_.jpg  \n",
       "2      https://images-na.ssl-images-amazon.com/images/M/MV5BMjQxM2YyNjMtZjUxYy00OGYyLTg0MmQtNGE2YzNjYmUyZTY1XkEyXkFqcGdeQXVyMTQxNzMzNDI@._V1_UX182_CR0,0,182,268_AL_.jpg   \n",
       "3      https://images-na.ssl-images-amazon.com/images/M/MV5BMTczMTMyMTgyM15BMl5BanBnXkFtZTcwOTc4OTQyMQ@@._V1_UY268_CR4,0,182,268_AL_.jpg                                   \n",
       "4      https://images-na.ssl-images-amazon.com/images/M/MV5BOTEyNzg5NjYtNDU4OS00MWYxLWJhMTItYWU4NTkyNDBmM2Y0XkEyXkFqcGdeQXVyMTQxNzMzNDI@._V1_UX182_CR0,0,182,268_AL_.jpg   \n",
       "...                                                                                                                                                                  ...   \n",
       "38633  https://images-na.ssl-images-amazon.com/images/M/MV5BMTk3YmM3ZjktZDg0MS00NDc1LTk1MmUtZDBiM2QyNjMxNDdkXkEyXkFqcGdeQXVyMjUyNDk2ODc@._V1_UY268_CR3,0,182,268_AL_.jpg   \n",
       "38634  https://images-na.ssl-images-amazon.com/images/M/MV5BMTQ1NzY4OTA1Ml5BMl5BanBnXkFtZTcwOTEzNjcyMQ@@._V1_UY268_CR4,0,182,268_AL_.jpg                                   \n",
       "38635  https://images-na.ssl-images-amazon.com/images/M/MV5BMTQ3MzU2NzM4OF5BMl5BanBnXkFtZTcwMDIxNDMzMQ@@._V1_UY268_CR4,0,182,268_AL_.jpg                                   \n",
       "38636  https://images-na.ssl-images-amazon.com/images/M/MV5BMTY1MzAyMDk3Nl5BMl5BanBnXkFtZTcwMjI0Mzk2MQ@@._V1_UY268_CR4,0,182,268_AL_.jpg                                   \n",
       "38637  https://images-na.ssl-images-amazon.com/images/M/MV5BMjA0NTQ2MTc0OF5BMl5BanBnXkFtZTYwMzU0NjQ5._V1_UX182_CR0,0,182,268_AL_.jpg                                       \n",
       "\n",
       "[35925 rows x 6 columns]"
      ]
     },
     "execution_count": 10,
     "metadata": {},
     "output_type": "execute_result"
    }
   ],
   "source": [
    "list_image_id = [int(id.split('.')[0]) for id in os.listdir(DATASET_RAW_PATH)]\n",
    "\n",
    "new = movie['imdbId'].isin(list_image_id)\n",
    "movie[new]"
   ]
  },
  {
   "cell_type": "code",
   "execution_count": 11,
   "metadata": {
    "executionInfo": {
     "elapsed": 37,
     "status": "ok",
     "timestamp": 1648222880501,
     "user": {
      "displayName": "ismail önder",
      "photoUrl": "https://lh3.googleusercontent.com/a-/AOh14GgWzUV3jVAmHFE0RJ85WTC8Oqv2BUxb0u-46Lc=s64",
      "userId": "09025349113891357800"
     },
     "user_tz": -180
    },
    "gradient": {
     "execution_count": 9,
     "id": "bd734ba3-a50f-4bd3-94a4-9acfc8917748",
     "kernelId": "3e5c5cc6-8e2a-4e8c-8c30-3c64f22fb7b5"
    },
    "id": "lmMVw0zlIkVf"
   },
   "outputs": [],
   "source": [
    "list_image_id = [int(id.split('.')[0]) for id in os.listdir(DATASET_RAW_PATH)]\n",
    "movie = movie[movie['imdbId'].isin(list_image_id)]"
   ]
  },
  {
   "cell_type": "code",
   "execution_count": 12,
   "metadata": {
    "colab": {
     "base_uri": "https://localhost:8080/"
    },
    "executionInfo": {
     "elapsed": 37,
     "status": "ok",
     "timestamp": 1648222880502,
     "user": {
      "displayName": "ismail önder",
      "photoUrl": "https://lh3.googleusercontent.com/a-/AOh14GgWzUV3jVAmHFE0RJ85WTC8Oqv2BUxb0u-46Lc=s64",
      "userId": "09025349113891357800"
     },
     "user_tz": -180
    },
    "gradient": {
     "execution_count": 10,
     "id": "2ef1b74e-4879-4a89-952b-193898a858c0",
     "kernelId": "3e5c5cc6-8e2a-4e8c-8c30-3c64f22fb7b5"
    },
    "id": "ozL0bpYAdeue",
    "outputId": "28e2aa78-3042-4ef0-82b0-230947a8fd29"
   },
   "outputs": [
    {
     "name": "stdout",
     "output_type": "stream",
     "text": [
      "35925\n",
      "(35925, 6)\n"
     ]
    }
   ],
   "source": [
    "print(len(os.listdir(DATASET_RAW_PATH)))\n",
    "print(movie[new].shape)"
   ]
  },
  {
   "cell_type": "code",
   "execution_count": 13,
   "metadata": {
    "colab": {
     "base_uri": "https://localhost:8080/"
    },
    "executionInfo": {
     "elapsed": 10,
     "status": "ok",
     "timestamp": 1648222880502,
     "user": {
      "displayName": "ismail önder",
      "photoUrl": "https://lh3.googleusercontent.com/a-/AOh14GgWzUV3jVAmHFE0RJ85WTC8Oqv2BUxb0u-46Lc=s64",
      "userId": "09025349113891357800"
     },
     "user_tz": -180
    },
    "gradient": {
     "execution_count": 11,
     "id": "200606d0-b541-4c19-b73d-c982117c2f76",
     "kernelId": "3e5c5cc6-8e2a-4e8c-8c30-3c64f22fb7b5"
    },
    "id": "rQfEWwJP0nzj",
    "outputId": "4b2019a2-9f64-4f53-9b40-8ef5fb29aeb0"
   },
   "outputs": [
    {
     "data": {
      "text/plain": [
       "True"
      ]
     },
     "execution_count": 13,
     "metadata": {},
     "output_type": "execute_result"
    }
   ],
   "source": [
    "# checking downloaded images and dataframe rows is the same\n",
    "len(os.listdir(DATASET_RAW_PATH)) == movie.shape[0]"
   ]
  },
  {
   "cell_type": "code",
   "execution_count": 14,
   "metadata": {
    "executionInfo": {
     "elapsed": 581,
     "status": "ok",
     "timestamp": 1648222881075,
     "user": {
      "displayName": "ismail önder",
      "photoUrl": "https://lh3.googleusercontent.com/a-/AOh14GgWzUV3jVAmHFE0RJ85WTC8Oqv2BUxb0u-46Lc=s64",
      "userId": "09025349113891357800"
     },
     "user_tz": -180
    },
    "gradient": {
     "execution_count": 12,
     "id": "fdd10593-cd40-4aaf-8289-dbf3940e2679",
     "kernelId": "3e5c5cc6-8e2a-4e8c-8c30-3c64f22fb7b5"
    },
    "id": "iGgGPB6K0nzn"
   },
   "outputs": [],
   "source": [
    "# save it to csv file\n",
    "movie.to_csv(PROJECT_FOLDER +'/movie_genre.csv', encoding='utf-8')"
   ]
  },
  {
   "cell_type": "code",
   "execution_count": null,
   "metadata": {
    "executionInfo": {
     "elapsed": 7,
     "status": "ok",
     "timestamp": 1648222881077,
     "user": {
      "displayName": "ismail önder",
      "photoUrl": "https://lh3.googleusercontent.com/a-/AOh14GgWzUV3jVAmHFE0RJ85WTC8Oqv2BUxb0u-46Lc=s64",
      "userId": "09025349113891357800"
     },
     "user_tz": -180
    },
    "gradient": {
     "execution_count": 12,
     "id": "b6ced613-c217-4edd-b580-474355a16c4d",
     "kernelId": "3e5c5cc6-8e2a-4e8c-8c30-3c64f22fb7b5"
    },
    "id": "0cN9VzmxifsG"
   },
   "outputs": [],
   "source": []
  },
  {
   "cell_type": "code",
   "execution_count": 15,
   "metadata": {
    "colab": {
     "base_uri": "https://localhost:8080/",
     "height": 423
    },
    "executionInfo": {
     "elapsed": 539,
     "status": "ok",
     "timestamp": 1648222881610,
     "user": {
      "displayName": "ismail önder",
      "photoUrl": "https://lh3.googleusercontent.com/a-/AOh14GgWzUV3jVAmHFE0RJ85WTC8Oqv2BUxb0u-46Lc=s64",
      "userId": "09025349113891357800"
     },
     "user_tz": -180
    },
    "gradient": {
     "execution_count": 13,
     "id": "ce4bec31-ad35-42a6-bbae-95da49984ae6",
     "kernelId": "3e5c5cc6-8e2a-4e8c-8c30-3c64f22fb7b5"
    },
    "id": "8ejV_auP4wCM",
    "outputId": "a37d6f0c-7839-4c99-fc4c-a1f45b651d5a"
   },
   "outputs": [
    {
     "data": {
      "text/html": [
       "<div>\n",
       "<style scoped>\n",
       "    .dataframe tbody tr th:only-of-type {\n",
       "        vertical-align: middle;\n",
       "    }\n",
       "\n",
       "    .dataframe tbody tr th {\n",
       "        vertical-align: top;\n",
       "    }\n",
       "\n",
       "    .dataframe thead th {\n",
       "        text-align: right;\n",
       "    }\n",
       "</style>\n",
       "<table border=\"1\" class=\"dataframe\">\n",
       "  <thead>\n",
       "    <tr style=\"text-align: right;\">\n",
       "      <th></th>\n",
       "      <th>imdbId</th>\n",
       "      <th>Genre</th>\n",
       "    </tr>\n",
       "  </thead>\n",
       "  <tbody>\n",
       "    <tr>\n",
       "      <th>0</th>\n",
       "      <td>114709</td>\n",
       "      <td>Animation|Adventure|Comedy</td>\n",
       "    </tr>\n",
       "    <tr>\n",
       "      <th>1</th>\n",
       "      <td>113497</td>\n",
       "      <td>Action|Adventure|Family</td>\n",
       "    </tr>\n",
       "    <tr>\n",
       "      <th>2</th>\n",
       "      <td>113228</td>\n",
       "      <td>Comedy|Romance</td>\n",
       "    </tr>\n",
       "    <tr>\n",
       "      <th>3</th>\n",
       "      <td>114885</td>\n",
       "      <td>Comedy|Drama|Romance</td>\n",
       "    </tr>\n",
       "    <tr>\n",
       "      <th>4</th>\n",
       "      <td>113041</td>\n",
       "      <td>Comedy|Family|Romance</td>\n",
       "    </tr>\n",
       "    <tr>\n",
       "      <th>...</th>\n",
       "      <td>...</td>\n",
       "      <td>...</td>\n",
       "    </tr>\n",
       "    <tr>\n",
       "      <th>35920</th>\n",
       "      <td>83291</td>\n",
       "      <td>Action|Thriller</td>\n",
       "    </tr>\n",
       "    <tr>\n",
       "      <th>35921</th>\n",
       "      <td>83168</td>\n",
       "      <td>Drama</td>\n",
       "    </tr>\n",
       "    <tr>\n",
       "      <th>35922</th>\n",
       "      <td>82875</td>\n",
       "      <td>Comedy</td>\n",
       "    </tr>\n",
       "    <tr>\n",
       "      <th>35923</th>\n",
       "      <td>815258</td>\n",
       "      <td>Horror</td>\n",
       "    </tr>\n",
       "    <tr>\n",
       "      <th>35924</th>\n",
       "      <td>79142</td>\n",
       "      <td>Action|Comedy</td>\n",
       "    </tr>\n",
       "  </tbody>\n",
       "</table>\n",
       "<p>35925 rows × 2 columns</p>\n",
       "</div>"
      ],
      "text/plain": [
       "       imdbId                       Genre\n",
       "0      114709  Animation|Adventure|Comedy\n",
       "1      113497  Action|Adventure|Family   \n",
       "2      113228  Comedy|Romance            \n",
       "3      114885  Comedy|Drama|Romance      \n",
       "4      113041  Comedy|Family|Romance     \n",
       "...       ...                    ...     \n",
       "35920  83291   Action|Thriller           \n",
       "35921  83168   Drama                     \n",
       "35922  82875   Comedy                    \n",
       "35923  815258  Horror                    \n",
       "35924  79142   Action|Comedy             \n",
       "\n",
       "[35925 rows x 2 columns]"
      ]
     },
     "execution_count": 15,
     "metadata": {},
     "output_type": "execute_result"
    }
   ],
   "source": [
    "df = pd.read_csv(PROJECT_FOLDER +'/movie_genre.csv')\n",
    "df = df[['imdbId', 'Genre']] # we only need 'imdbId', 'Genre' column for the work \n",
    "df "
   ]
  },
  {
   "cell_type": "markdown",
   "metadata": {
    "id": "krzReVIa67Xy"
   },
   "source": [
    "## 2. DATA EXPLORATION"
   ]
  },
  {
   "cell_type": "markdown",
   "metadata": {
    "id": "ygrV892qvkGk"
   },
   "source": [
    "First, let's see which movie genres that we have in the dataset."
   ]
  },
  {
   "cell_type": "code",
   "execution_count": 16,
   "metadata": {
    "colab": {
     "base_uri": "https://localhost:8080/"
    },
    "executionInfo": {
     "elapsed": 526,
     "status": "ok",
     "timestamp": 1648222882129,
     "user": {
      "displayName": "ismail önder",
      "photoUrl": "https://lh3.googleusercontent.com/a-/AOh14GgWzUV3jVAmHFE0RJ85WTC8Oqv2BUxb0u-46Lc=s64",
      "userId": "09025349113891357800"
     },
     "user_tz": -180
    },
    "gradient": {
     "execution_count": 14,
     "id": "ac96043f-f994-42f0-aaea-e73ee22a8e24",
     "kernelId": "3e5c5cc6-8e2a-4e8c-8c30-3c64f22fb7b5"
    },
    "id": "E2GMqVpf0nzy",
    "outputId": "deec556e-33c0-4c23-f7c7-7a3f4424b1b5"
   },
   "outputs": [
    {
     "name": "stdout",
     "output_type": "stream",
     "text": [
      "There is 28 unique labels including {'Animation', 'News', 'Short', 'Comedy', 'Mystery', 'Documentary', 'Film-Noir', 'Western', 'Adventure', 'Horror', 'Sci-Fi', 'Action', 'War', 'Adult', 'Romance', 'Music', 'Game-Show', 'Thriller', 'Fantasy', 'Crime', 'Musical', 'Reality-TV', 'History', 'Talk-Show', 'Family', 'Biography', 'Sport', 'Drama'}\n"
     ]
    }
   ],
   "source": [
    "labels_list = list(chain.from_iterable([i.split(\"|\") for i in df['Genre'].values]))\n",
    "labels_set = set(labels_list)\n",
    "\n",
    "\n",
    "print(\"There is {} unique labels including {}\".format(len(labels_set), labels_set))"
   ]
  },
  {
   "cell_type": "markdown",
   "metadata": {
    "id": "5-V5h-BmvwTT"
   },
   "source": [
    "Display the distribution of these genres."
   ]
  },
  {
   "cell_type": "code",
   "execution_count": 17,
   "metadata": {
    "colab": {
     "base_uri": "https://localhost:8080/",
     "height": 648
    },
    "executionInfo": {
     "elapsed": 2117,
     "status": "ok",
     "timestamp": 1648222884239,
     "user": {
      "displayName": "ismail önder",
      "photoUrl": "https://lh3.googleusercontent.com/a-/AOh14GgWzUV3jVAmHFE0RJ85WTC8Oqv2BUxb0u-46Lc=s64",
      "userId": "09025349113891357800"
     },
     "user_tz": -180
    },
    "gradient": {
     "execution_count": 15,
     "id": "2b7899b2-63fc-432f-9ffe-2a294bdc64ed",
     "kernelId": "3e5c5cc6-8e2a-4e8c-8c30-3c64f22fb7b5"
    },
    "id": "shPU20mZ0nz2",
    "outputId": "94bf3532-6e7e-46c4-e35a-39afdc9f7847"
   },
   "outputs": [
    {
     "data": {
      "image/png": "[encoded data removed]",
      "text/plain": [
       "<Figure size 864x720 with 1 Axes>"
      ]
     },
     "metadata": {},
     "output_type": "display_data"
    }
   ],
   "source": [
    "# Get label frequencies in descending order\n",
    "label_freq = df['Genre'].apply(lambda s: str(s).split('|')).explode().value_counts().sort_values(ascending=False)\n",
    "\n",
    "# Bar plot\n",
    "style.use(\"fivethirtyeight\")\n",
    "plt.figure(figsize=(12,10))\n",
    "sns.barplot(y=label_freq.index.values, x=label_freq, order=label_freq.index)\n",
    "plt.title(\"Label frequency\", fontsize=14)\n",
    "plt.xlabel(\"\")\n",
    "plt.xticks(fontsize=12)\n",
    "plt.yticks(fontsize=12)\n",
    "plt.show()"
   ]
  },
  {
   "cell_type": "markdown",
   "metadata": {
    "id": "Sq5-vRVsv6WR"
   },
   "source": [
    "As we can see, our data is heavily imbalanced with respect genres.There are many occurrences of genres like \"Comedy\" and \"Drama\" and a very low number for other ones. \n",
    "We will consider as a rare label every label that is covered by less than 1000 posters in our dataset and they are very hard to predict due to lack of sufficient data. So, we need to make some transformation in the label column (Genre) where we ignore infrequent labels by hiding them.\n",
    "\n"
   ]
  },
  {
   "cell_type": "code",
   "execution_count": 18,
   "metadata": {
    "colab": {
     "base_uri": "https://localhost:8080/"
    },
    "executionInfo": {
     "elapsed": 22,
     "status": "ok",
     "timestamp": 1648222884242,
     "user": {
      "displayName": "ismail önder",
      "photoUrl": "https://lh3.googleusercontent.com/a-/AOh14GgWzUV3jVAmHFE0RJ85WTC8Oqv2BUxb0u-46Lc=s64",
      "userId": "09025349113891357800"
     },
     "user_tz": -180
    },
    "gradient": {
     "execution_count": 16,
     "id": "763c33db-c3aa-4ce9-a68d-cea27cf38f44",
     "kernelId": "3e5c5cc6-8e2a-4e8c-8c30-3c64f22fb7b5"
    },
    "id": "XeF0q8xPKzi1",
    "outputId": "b380fa77-9576-464d-fa0d-6b53586539c6"
   },
   "outputs": [
    {
     "name": "stdout",
     "output_type": "stream",
     "text": [
      "We will be ignoring these rare labels: ['Romance', 'Action', 'Crime', 'Thriller', 'Horror', 'Adventure', 'Documentary', 'Mystery', 'Family', 'Sci-Fi', 'Fantasy', 'Biography', 'Animation', 'History', 'Music', 'War', 'Short', 'Western', 'Musical', 'Sport', 'Film-Noir', 'News', 'Adult', 'Talk-Show', 'Reality-TV', 'Game-Show']\n"
     ]
    }
   ],
   "source": [
    "# Create a list of rare labels\n",
    "rare = list(label_freq[label_freq<10000].index) # 1000\n",
    "print(\"We will be ignoring these rare labels:\", rare)"
   ]
  },
  {
   "cell_type": "code",
   "execution_count": 19,
   "metadata": {
    "colab": {
     "base_uri": "https://localhost:8080/",
     "height": 206
    },
    "executionInfo": {
     "elapsed": 15,
     "status": "ok",
     "timestamp": 1648222884243,
     "user": {
      "displayName": "ismail önder",
      "photoUrl": "https://lh3.googleusercontent.com/a-/AOh14GgWzUV3jVAmHFE0RJ85WTC8Oqv2BUxb0u-46Lc=s64",
      "userId": "09025349113891357800"
     },
     "user_tz": -180
    },
    "gradient": {
     "execution_count": 17,
     "id": "97ad902b-15e0-4b3c-a45e-178036ca0d55",
     "kernelId": "3e5c5cc6-8e2a-4e8c-8c30-3c64f22fb7b5"
    },
    "id": "qQsWvQEeK0hZ",
    "outputId": "d5109f13-7c7e-4582-f6c5-0df4527625d9"
   },
   "outputs": [
    {
     "data": {
      "text/html": [
       "<div>\n",
       "<style scoped>\n",
       "    .dataframe tbody tr th:only-of-type {\n",
       "        vertical-align: middle;\n",
       "    }\n",
       "\n",
       "    .dataframe tbody tr th {\n",
       "        vertical-align: top;\n",
       "    }\n",
       "\n",
       "    .dataframe thead th {\n",
       "        text-align: right;\n",
       "    }\n",
       "</style>\n",
       "<table border=\"1\" class=\"dataframe\">\n",
       "  <thead>\n",
       "    <tr style=\"text-align: right;\">\n",
       "      <th></th>\n",
       "      <th>imdbId</th>\n",
       "      <th>Genre</th>\n",
       "    </tr>\n",
       "  </thead>\n",
       "  <tbody>\n",
       "    <tr>\n",
       "      <th>0</th>\n",
       "      <td>114709</td>\n",
       "      <td>[Comedy]</td>\n",
       "    </tr>\n",
       "    <tr>\n",
       "      <th>1</th>\n",
       "      <td>113497</td>\n",
       "      <td>[]</td>\n",
       "    </tr>\n",
       "    <tr>\n",
       "      <th>2</th>\n",
       "      <td>113228</td>\n",
       "      <td>[Comedy]</td>\n",
       "    </tr>\n",
       "    <tr>\n",
       "      <th>3</th>\n",
       "      <td>114885</td>\n",
       "      <td>[Comedy, Drama]</td>\n",
       "    </tr>\n",
       "    <tr>\n",
       "      <th>4</th>\n",
       "      <td>113041</td>\n",
       "      <td>[Comedy]</td>\n",
       "    </tr>\n",
       "  </tbody>\n",
       "</table>\n",
       "</div>"
      ],
      "text/plain": [
       "   imdbId            Genre\n",
       "0  114709  [Comedy]       \n",
       "1  113497  []             \n",
       "2  113228  [Comedy]       \n",
       "3  114885  [Comedy, Drama]\n",
       "4  113041  [Comedy]       "
      ]
     },
     "execution_count": 19,
     "metadata": {},
     "output_type": "execute_result"
    }
   ],
   "source": [
    "# Transform Genre into a list of labels and remove the rare ones\n",
    "df['Genre'] = df['Genre'].apply(lambda s: [l for l in str(s).split('|') if l not in rare])\n",
    "df.head()"
   ]
  },
  {
   "cell_type": "code",
   "execution_count": 20,
   "metadata": {},
   "outputs": [],
   "source": [
    "counter = 0\n",
    "for i in df['Genre']:\n",
    "    if not (i):\n",
    "        i.append(\"Other\")"
   ]
  },
  {
   "cell_type": "code",
   "execution_count": 21,
   "metadata": {},
   "outputs": [
    {
     "data": {
      "text/html": [
       "<div>\n",
       "<style scoped>\n",
       "    .dataframe tbody tr th:only-of-type {\n",
       "        vertical-align: middle;\n",
       "    }\n",
       "\n",
       "    .dataframe tbody tr th {\n",
       "        vertical-align: top;\n",
       "    }\n",
       "\n",
       "    .dataframe thead th {\n",
       "        text-align: right;\n",
       "    }\n",
       "</style>\n",
       "<table border=\"1\" class=\"dataframe\">\n",
       "  <thead>\n",
       "    <tr style=\"text-align: right;\">\n",
       "      <th></th>\n",
       "      <th>imdbId</th>\n",
       "      <th>Genre</th>\n",
       "    </tr>\n",
       "  </thead>\n",
       "  <tbody>\n",
       "    <tr>\n",
       "      <th>0</th>\n",
       "      <td>114709</td>\n",
       "      <td>[Comedy]</td>\n",
       "    </tr>\n",
       "    <tr>\n",
       "      <th>1</th>\n",
       "      <td>113497</td>\n",
       "      <td>[Other]</td>\n",
       "    </tr>\n",
       "    <tr>\n",
       "      <th>2</th>\n",
       "      <td>113228</td>\n",
       "      <td>[Comedy]</td>\n",
       "    </tr>\n",
       "    <tr>\n",
       "      <th>3</th>\n",
       "      <td>114885</td>\n",
       "      <td>[Comedy, Drama]</td>\n",
       "    </tr>\n",
       "    <tr>\n",
       "      <th>4</th>\n",
       "      <td>113041</td>\n",
       "      <td>[Comedy]</td>\n",
       "    </tr>\n",
       "  </tbody>\n",
       "</table>\n",
       "</div>"
      ],
      "text/plain": [
       "   imdbId            Genre\n",
       "0  114709  [Comedy]       \n",
       "1  113497  [Other]        \n",
       "2  113228  [Comedy]       \n",
       "3  114885  [Comedy, Drama]\n",
       "4  113041  [Comedy]       "
      ]
     },
     "execution_count": 21,
     "metadata": {},
     "output_type": "execute_result"
    }
   ],
   "source": [
    "df.head()"
   ]
  },
  {
   "cell_type": "code",
   "execution_count": 22,
   "metadata": {
    "executionInfo": {
     "elapsed": 14,
     "status": "ok",
     "timestamp": 1648222884244,
     "user": {
      "displayName": "ismail önder",
      "photoUrl": "https://lh3.googleusercontent.com/a-/AOh14GgWzUV3jVAmHFE0RJ85WTC8Oqv2BUxb0u-46Lc=s64",
      "userId": "09025349113891357800"
     },
     "user_tz": -180
    },
    "gradient": {
     "execution_count": 18,
     "id": "591a036a-4169-452b-bd7a-92981dc1d2e4",
     "kernelId": "3e5c5cc6-8e2a-4e8c-8c30-3c64f22fb7b5"
    },
    "id": "DSecPd_BspI1"
   },
   "outputs": [],
   "source": [
    "# samples = random.sample(os.listdir(DATASET_RAW_PATH),9)\n",
    "# plt.figure(figsize=(20, 20))\n",
    "# for index, image_name in enumerate(samples):\n",
    "#     index += 1\n",
    "#     plt.subplot(3, 3, index)\n",
    "\n",
    "#     img = mpimg.imread(DATASET_RAW_PATH + '/' + image_name)\n",
    "#     plt.imshow(img)\n",
    "\n",
    "#     genre = df.loc[df['imdbId'] == int(image_name.split('.')[0]), 'Genre'].values[0]\n",
    "#     plt.title(\"Genre: {}\".format(genre))\n",
    "#     plt.axis(\"off\")\n",
    "\n",
    "# plt.show()"
   ]
  },
  {
   "cell_type": "markdown",
   "metadata": {
    "id": "_62UWkMdbsi-"
   },
   "source": [
    "## 3. DATA PRE-PROCESSING"
   ]
  },
  {
   "cell_type": "markdown",
   "metadata": {
    "id": "s1x4gp6J74CZ"
   },
   "source": [
    "To speeding up our learning and give time for improving model, we choose to work on a small sample of dataset first."
   ]
  },
  {
   "cell_type": "code",
   "execution_count": 23,
   "metadata": {
    "executionInfo": {
     "elapsed": 13,
     "status": "ok",
     "timestamp": 1648222884244,
     "user": {
      "displayName": "ismail önder",
      "photoUrl": "https://lh3.googleusercontent.com/a-/AOh14GgWzUV3jVAmHFE0RJ85WTC8Oqv2BUxb0u-46Lc=s64",
      "userId": "09025349113891357800"
     },
     "user_tz": -180
    },
    "gradient": {
     "execution_count": 19,
     "id": "fb6547bc-bde2-4390-acd1-0370edb91601",
     "kernelId": "3e5c5cc6-8e2a-4e8c-8c30-3c64f22fb7b5"
    },
    "id": "uEIHex5L7yc4"
   },
   "outputs": [],
   "source": [
    "from sklearn.utils import shuffle\n",
    "\n",
    "sample_df = df.copy()\n",
    "# sample_df = shuffle(sample_df)\n",
    "# sample_df = sample_df[:10000]"
   ]
  },
  {
   "cell_type": "markdown",
   "metadata": {
    "id": "C09DK6Pp7be-"
   },
   "source": [
    "Turning the filename into filepaths so that we can read the image from its directory later"
   ]
  },
  {
   "cell_type": "code",
   "execution_count": 24,
   "metadata": {
    "colab": {
     "base_uri": "https://localhost:8080/"
    },
    "executionInfo": {
     "elapsed": 580,
     "status": "ok",
     "timestamp": 1648222884811,
     "user": {
      "displayName": "ismail önder",
      "photoUrl": "https://lh3.googleusercontent.com/a-/AOh14GgWzUV3jVAmHFE0RJ85WTC8Oqv2BUxb0u-46Lc=s64",
      "userId": "09025349113891357800"
     },
     "user_tz": -180
    },
    "gradient": {
     "execution_count": 20,
     "id": "404c24b7-6083-42db-bfbc-68521610ff81",
     "kernelId": "3e5c5cc6-8e2a-4e8c-8c30-3c64f22fb7b5"
    },
    "id": "SDcNpEZIm6cM",
    "outputId": "ff938617-5597-4e9d-9151-6dccd25ff9a3"
   },
   "outputs": [
    {
     "name": "stdout",
     "output_type": "stream",
     "text": [
      "14369 3593\n"
     ]
    }
   ],
   "source": [
    "from sklearn.model_selection import train_test_split\n",
    "\n",
    "X = [os.path.join(DATASET_RAW_PATH, str(i) + '.jpg') for i in sample_df['imdbId']]\n",
    "y = sample_df['Genre']\n",
    "train_img, val_img, train_label, val_label = train_test_split(X[0:int(len(X)/2)], y[0:int(len(y)/2)], test_size = 0.2, random_state = 10)\n",
    "#train_img, val_img, train_label, val_label = train_test_split(X, y, test_size = 0.2, random_state = 10)\n",
    "\n",
    "TRAIN_SAMPLES = len(train_img)\n",
    "VAL_SAMPLES = len(val_img)\n",
    "\n",
    "print (TRAIN_SAMPLES, VAL_SAMPLES)"
   ]
  },
  {
   "cell_type": "code",
   "execution_count": 25,
   "metadata": {
    "colab": {
     "base_uri": "https://localhost:8080/"
    },
    "executionInfo": {
     "elapsed": 19,
     "status": "ok",
     "timestamp": 1648222884812,
     "user": {
      "displayName": "ismail önder",
      "photoUrl": "https://lh3.googleusercontent.com/a-/AOh14GgWzUV3jVAmHFE0RJ85WTC8Oqv2BUxb0u-46Lc=s64",
      "userId": "09025349113891357800"
     },
     "user_tz": -180
    },
    "gradient": {
     "execution_count": 21,
     "id": "6b2b930e-69a2-4fba-9cec-4a3fe6f872e3",
     "kernelId": "3e5c5cc6-8e2a-4e8c-8c30-3c64f22fb7b5"
    },
    "id": "Qx655JJquXnj",
    "outputId": "c4273d82-e33b-4a4c-a202-3bb08e29c6bb"
   },
   "outputs": [
    {
     "name": "stdout",
     "output_type": "stream",
     "text": [
      "17962\n",
      "17962\n"
     ]
    }
   ],
   "source": [
    "print(int(len(X)/2))\n",
    "print(int(len(y)/2))\n"
   ]
  },
  {
   "cell_type": "code",
   "execution_count": 26,
   "metadata": {
    "colab": {
     "base_uri": "https://localhost:8080/"
    },
    "executionInfo": {
     "elapsed": 15,
     "status": "ok",
     "timestamp": 1648222884812,
     "user": {
      "displayName": "ismail önder",
      "photoUrl": "https://lh3.googleusercontent.com/a-/AOh14GgWzUV3jVAmHFE0RJ85WTC8Oqv2BUxb0u-46Lc=s64",
      "userId": "09025349113891357800"
     },
     "user_tz": -180
    },
    "gradient": {
     "execution_count": 22,
     "id": "2e8e639e-912e-4533-8f2c-d40ef5bdf609",
     "kernelId": "3e5c5cc6-8e2a-4e8c-8c30-3c64f22fb7b5"
    },
    "id": "otS544EtoRr6",
    "outputId": "42703fdb-8f49-42e6-b009-719d667b9d8d"
   },
   "outputs": [
    {
     "name": "stdout",
     "output_type": "stream",
     "text": [
      "Labels: \n",
      "0. Comedy\n",
      "1. Drama\n",
      "2. Other\n"
     ]
    }
   ],
   "source": [
    "from sklearn.preprocessing import MultiLabelBinarizer\n",
    "\n",
    "# Fit multi-label binarizer on the training set\n",
    "mlb = MultiLabelBinarizer()\n",
    "mlb.fit(train_label)\n",
    "\n",
    "# Print out label map \n",
    "print('Labels: ')\n",
    "label_map = {}\n",
    "for i, label in enumerate(mlb.classes_):\n",
    "    label_map[i] = label\n",
    "    print('{}. {}'.format(i, label))\n",
    "\n",
    "# Define num. of labels \n",
    "N_LABELS = len(mlb.classes_)"
   ]
  },
  {
   "cell_type": "code",
   "execution_count": 27,
   "metadata": {
    "colab": {
     "base_uri": "https://localhost:8080/"
    },
    "executionInfo": {
     "elapsed": 12,
     "status": "ok",
     "timestamp": 1648222884813,
     "user": {
      "displayName": "ismail önder",
      "photoUrl": "https://lh3.googleusercontent.com/a-/AOh14GgWzUV3jVAmHFE0RJ85WTC8Oqv2BUxb0u-46Lc=s64",
      "userId": "09025349113891357800"
     },
     "user_tz": -180
    },
    "gradient": {
     "execution_count": 23,
     "id": "c0ceb9e2-ba7a-4419-8852-ee3a6508d940",
     "kernelId": "3e5c5cc6-8e2a-4e8c-8c30-3c64f22fb7b5"
    },
    "id": "xsiCZZAXofCC",
    "outputId": "5fa19976-7219-466e-b030-171f2284789b"
   },
   "outputs": [
    {
     "name": "stdout",
     "output_type": "stream",
     "text": [
      "movieClassification/dataset/raw/144117.jpg [0 0 1]\n",
      "movieClassification/dataset/raw/79550.jpg [0 1 0]\n",
      "movieClassification/dataset/raw/275915.jpg [1 1 0]\n"
     ]
    }
   ],
   "source": [
    "# Transform the targets of both training set and validation set\n",
    "y_train = mlb.transform(train_label)\n",
    "y_val = mlb.transform(val_label)\n",
    "\n",
    "# Print 3 examples\n",
    "for i in range(3):\n",
    "    print(train_img[i], y_train[i])"
   ]
  },
  {
   "cell_type": "code",
   "execution_count": 28,
   "metadata": {},
   "outputs": [],
   "source": [
    "for i in range(len(y_train)):\n",
    "    if((y_train[i] == [0,0,0]).all()):\n",
    "        print(\"var\")\n",
    "        break"
   ]
  },
  {
   "cell_type": "code",
   "execution_count": 29,
   "metadata": {
    "executionInfo": {
     "elapsed": 9,
     "status": "ok",
     "timestamp": 1648222884814,
     "user": {
      "displayName": "ismail önder",
      "photoUrl": "https://lh3.googleusercontent.com/a-/AOh14GgWzUV3jVAmHFE0RJ85WTC8Oqv2BUxb0u-46Lc=s64",
      "userId": "09025349113891357800"
     },
     "user_tz": -180
    },
    "gradient": {
     "execution_count": 24,
     "id": "7bd4e087-28dd-4f5a-9bd9-5e27f7a7a176",
     "kernelId": "3e5c5cc6-8e2a-4e8c-8c30-3c64f22fb7b5"
    },
    "id": "7eT7szB-lAu7"
   },
   "outputs": [],
   "source": [
    "import cv2\n",
    "IMG_SIZE = 200"
   ]
  },
  {
   "cell_type": "code",
   "execution_count": 30,
   "metadata": {
    "executionInfo": {
     "elapsed": 34189,
     "status": "ok",
     "timestamp": 1648222918994,
     "user": {
      "displayName": "ismail önder",
      "photoUrl": "https://lh3.googleusercontent.com/a-/AOh14GgWzUV3jVAmHFE0RJ85WTC8Oqv2BUxb0u-46Lc=s64",
      "userId": "09025349113891357800"
     },
     "user_tz": -180
    },
    "gradient": {
     "execution_count": 25,
     "id": "70393133-dcc0-43f7-8fca-03680a4e84a7",
     "kernelId": "3e5c5cc6-8e2a-4e8c-8c30-3c64f22fb7b5"
    },
    "id": "zg9YSQ0jlAu7"
   },
   "outputs": [],
   "source": [
    "my_train = []\n",
    "\n",
    "counter = 0\n",
    "for train in train_img:\n",
    "#     image = tf.io.read_file(train)\n",
    "#     image = tf.image.decode_jpeg(image, channels=3)\n",
    "#     image = tf.image.resize(image, [192, 192])\n",
    "#     image = image / 255.0\n",
    "    img = cv2.imread(train)\n",
    "    #img = img / 255\n",
    "    img = cv2.resize(img, (IMG_SIZE,IMG_SIZE))\n",
    "    my_train.append(img)\n",
    "    counter +=1\n",
    "    #print(counter)\n"
   ]
  },
  {
   "cell_type": "code",
   "execution_count": 31,
   "metadata": {
    "executionInfo": {
     "elapsed": 4599,
     "status": "ok",
     "timestamp": 1648222923574,
     "user": {
      "displayName": "ismail önder",
      "photoUrl": "https://lh3.googleusercontent.com/a-/AOh14GgWzUV3jVAmHFE0RJ85WTC8Oqv2BUxb0u-46Lc=s64",
      "userId": "09025349113891357800"
     },
     "user_tz": -180
    },
    "gradient": {
     "execution_count": 26,
     "id": "902be7a0-2d70-4264-a534-130262e15a25",
     "kernelId": "3e5c5cc6-8e2a-4e8c-8c30-3c64f22fb7b5"
    },
    "id": "1g3FcyOElAu8"
   },
   "outputs": [],
   "source": [
    "my_val = []\n",
    "\n",
    "counter = 0\n",
    "for val in val_img:\n",
    "    img = cv2.imread(val)\n",
    "    #img = img / 255\n",
    "    img = cv2.resize(img, (IMG_SIZE,IMG_SIZE))\n",
    "    # image = tf.io.read_file(val)\n",
    "    # image = tf.image.decode_jpeg(image, channels=3)\n",
    "    # image = tf.image.resize(image, [IMG_SIZE, IMG_SIZE])\n",
    "    my_val.append(img)\n",
    "    counter +=1\n",
    "    #print(counter)"
   ]
  },
  {
   "cell_type": "code",
   "execution_count": 32,
   "metadata": {
    "executionInfo": {
     "elapsed": 595,
     "status": "ok",
     "timestamp": 1648222924126,
     "user": {
      "displayName": "ismail önder",
      "photoUrl": "https://lh3.googleusercontent.com/a-/AOh14GgWzUV3jVAmHFE0RJ85WTC8Oqv2BUxb0u-46Lc=s64",
      "userId": "09025349113891357800"
     },
     "user_tz": -180
    },
    "gradient": {
     "execution_count": 27,
     "id": "6046b237-10a8-4512-88f3-7b030e797ba7",
     "kernelId": "3e5c5cc6-8e2a-4e8c-8c30-3c64f22fb7b5"
    },
    "id": "--PaEc5dlAu-"
   },
   "outputs": [],
   "source": [
    "x_train = np.array(my_train).reshape(-1, IMG_SIZE, IMG_SIZE, 3)\n",
    "y_train = np.array(y_train).reshape(len(y_train),len(y_train[0]))\n",
    "\n",
    "#x_test = np.array(my_val).reshape(-1, IMG_SIZE, IMG_SIZE, 3)\n",
    "#y_test = np.array(y_val).reshape(len(y_val),len(y_val[0]))"
   ]
  },
  {
   "cell_type": "code",
   "execution_count": 33,
   "metadata": {
    "executionInfo": {
     "elapsed": 19,
     "status": "ok",
     "timestamp": 1648222924126,
     "user": {
      "displayName": "ismail önder",
      "photoUrl": "https://lh3.googleusercontent.com/a-/AOh14GgWzUV3jVAmHFE0RJ85WTC8Oqv2BUxb0u-46Lc=s64",
      "userId": "09025349113891357800"
     },
     "user_tz": -180
    },
    "gradient": {
     "execution_count": 28,
     "id": "b2f5aa99-544a-4c46-817d-64f7e6ba7728",
     "kernelId": "3e5c5cc6-8e2a-4e8c-8c30-3c64f22fb7b5"
    },
    "id": "t_hhY1yPlAu-"
   },
   "outputs": [],
   "source": [
    "x_test = np.array(my_val).reshape(-1, IMG_SIZE, IMG_SIZE, 3)\n",
    "y_test = np.array(y_val).reshape(len(y_val),len(y_val[0]))"
   ]
  },
  {
   "cell_type": "code",
   "execution_count": 34,
   "metadata": {
    "colab": {
     "base_uri": "https://localhost:8080/"
    },
    "executionInfo": {
     "elapsed": 19,
     "status": "ok",
     "timestamp": 1648222924127,
     "user": {
      "displayName": "ismail önder",
      "photoUrl": "https://lh3.googleusercontent.com/a-/AOh14GgWzUV3jVAmHFE0RJ85WTC8Oqv2BUxb0u-46Lc=s64",
      "userId": "09025349113891357800"
     },
     "user_tz": -180
    },
    "gradient": {
     "execution_count": 29,
     "id": "2ef3bb6f-a5af-435c-9dd9-6fd1d79972b1",
     "kernelId": "3e5c5cc6-8e2a-4e8c-8c30-3c64f22fb7b5"
    },
    "id": "XsX9IXiQlAu-",
    "outputId": "65f2261c-c304-4a21-f187-a734e8dc8dd1"
   },
   "outputs": [
    {
     "name": "stdout",
     "output_type": "stream",
     "text": [
      "(14369, 200, 200, 3)\n",
      "(14369, 3)\n",
      "(3593, 200, 200, 3)\n",
      "(3593, 3)\n"
     ]
    }
   ],
   "source": [
    "print(x_train.shape)\n",
    "print(y_train.shape)\n",
    "\n",
    "print(x_test.shape)\n",
    "print(y_test.shape)"
   ]
  },
  {
   "cell_type": "code",
   "execution_count": 42,
   "metadata": {
    "executionInfo": {
     "elapsed": 2923,
     "status": "ok",
     "timestamp": 1648223036504,
     "user": {
      "displayName": "ismail önder",
      "photoUrl": "https://lh3.googleusercontent.com/a-/AOh14GgWzUV3jVAmHFE0RJ85WTC8Oqv2BUxb0u-46Lc=s64",
      "userId": "09025349113891357800"
     },
     "user_tz": -180
    },
    "gradient": {
     "execution_count": 30,
     "id": "99494de4-c473-4ff5-b065-74af11cec1da",
     "kernelId": "3e5c5cc6-8e2a-4e8c-8c30-3c64f22fb7b5"
    },
    "id": "nwxWT0ooxEI5"
   },
   "outputs": [],
   "source": [
    "\n",
    "# model = Sequential()\n",
    "# model.add(Conv2D(16, (3,3), activation='relu', input_shape =(IMG_SIZE,IMG_SIZE,3))) # x_train.shape[1:]\n",
    "# model.add(BatchNormalization())\n",
    "# #model.add(Dropout(0.3))\n",
    "\n",
    "# model.add(Conv2D(32, (3,3), activation='relu'))\n",
    "# model.add(BatchNormalization())\n",
    "# model.add(MaxPool2D(2,2))\n",
    "# #model.add(Dropout(0.3))\n",
    "\n",
    "# model.add(Conv2D(64, (3,3), activation='relu'))\n",
    "# model.add(BatchNormalization())\n",
    "# model.add(MaxPool2D(2,2))\n",
    "# #model.add(Dropout(0.4))\n",
    "\n",
    "# model.add(Conv2D(128, (3,3), activation='relu'))\n",
    "# model.add(BatchNormalization())\n",
    "# model.add(MaxPool2D(2,2))\n",
    "# #model.add(Dropout(0.5))\n",
    "\n",
    "# model.add(Flatten())\n",
    "\n",
    "# model.add(Dense(1024, activation='relu'))\n",
    "# model.add(BatchNormalization())\n",
    "# #model.add(Dropout(0.4))\n",
    "\n",
    "\n",
    "# model.add(Dense(1024, activation='relu'))\n",
    "# model.add(BatchNormalization())\n",
    "# #model.add(Dropout(0.4))\n",
    "\n",
    "# model.add(Dense(512, activation='relu'))\n",
    "# model.add(BatchNormalization())\n",
    "# #model.add(Dropout(0.4))\n",
    "\n",
    "# model.add(Dense(512, activation='relu'))\n",
    "# model.add(BatchNormalization())\n",
    "# #model.add(Dropout(0.4))\n",
    "\n",
    "# model.add(Dense(256, activation='relu'))\n",
    "# model.add(BatchNormalization())\n",
    "# #model.add(Dropout(0.4))\n",
    "\n",
    "# model.add(Dense(9, activation='sigmoid'))\n",
    "\n",
    "# model = tf.keras.applications.DenseNet169(\n",
    "#     include_top=False,\n",
    "#     weights=None,\n",
    "#     input_tensor=None,\n",
    "#     input_shape=(IMG_SIZE,IMG_SIZE,3),\n",
    "#     pooling=None\n",
    "# )\n",
    "\n",
    "\n",
    "# model = tf.keras.Sequential([\n",
    "#     model,\n",
    "#     tf.keras.layers.Flatten(),\n",
    "#     tf.keras.layers.Dense(1024, activation = 'relu'),\n",
    "#     tf.keras.layers.Dense(128, activation = 'relu'),\n",
    "#     #tf.keras.layers.GlobalAveragePooling2D(),\n",
    "#     tf.keras.layers.Dense(3, activation = 'sigmoid')])  \n",
    "\n",
    "model = tf.keras.applications.MobileNetV2(input_shape=(IMG_SIZE,IMG_SIZE,3), include_top=False)\n",
    "\n",
    "model = tf.keras.Sequential([\n",
    "    model,\n",
    "    tf.keras.layers.Flatten(),\n",
    "    tf.keras.layers.Dense(1024, activation = 'relu'),\n",
    "    tf.keras.layers.Dense(128, activation = 'relu'),\n",
    "    #tf.keras.layers.GlobalAveragePooling2D(),\n",
    "    tf.keras.layers.Dense(3, activation = 'sigmoid')])  \n",
    "\n"
   ]
  },
  {
   "cell_type": "code",
   "execution_count": 43,
   "metadata": {
    "colab": {
     "base_uri": "https://localhost:8080/"
    },
    "executionInfo": {
     "elapsed": 598,
     "status": "ok",
     "timestamp": 1648223038178,
     "user": {
      "displayName": "ismail önder",
      "photoUrl": "https://lh3.googleusercontent.com/a-/AOh14GgWzUV3jVAmHFE0RJ85WTC8Oqv2BUxb0u-46Lc=s64",
      "userId": "09025349113891357800"
     },
     "user_tz": -180
    },
    "gradient": {
     "execution_count": 31,
     "id": "cd5a4237-42fa-4c07-adc8-62f696978708",
     "kernelId": "3e5c5cc6-8e2a-4e8c-8c30-3c64f22fb7b5"
    },
    "id": "2OhjpIfQxHVU",
    "outputId": "b918c269-f4f7-40d7-81e4-ed77b0014677",
    "scrolled": true
   },
   "outputs": [
    {
     "name": "stdout",
     "output_type": "stream",
     "text": [
      "Model: \"mobilenetv2_1.00_224\"\n",
      "__________________________________________________________________________________________________\n",
      " Layer (type)                   Output Shape         Param #     Connected to                     \n",
      "==================================================================================================\n",
      " input_3 (InputLayer)           [(None, 200, 200, 3  0           []                               \n",
      "                                )]                                                                \n",
      "                                                                                                  \n",
      " Conv1 (Conv2D)                 (None, 100, 100, 32  864         ['input_3[0][0]']                \n",
      "                                )                                                                 \n",
      "                                                                                                  \n",
      " bn_Conv1 (BatchNormalization)  (None, 100, 100, 32  128         ['Conv1[0][0]']                  \n",
      "                                )                                                                 \n",
      "                                                                                                  \n",
      " Conv1_relu (ReLU)              (None, 100, 100, 32  0           ['bn_Conv1[0][0]']               \n",
      "                                )                                                                 \n",
      "                                                                                                  \n",
      " expanded_conv_depthwise (Depth  (None, 100, 100, 32  288        ['Conv1_relu[0][0]']             \n",
      " wiseConv2D)                    )                                                                 \n",
      "                                                                                                  \n",
      " expanded_conv_depthwise_BN (Ba  (None, 100, 100, 32  128        ['expanded_conv_depthwise[0][0]']\n",
      " tchNormalization)              )                                                                 \n",
      "                                                                                                  \n",
      " expanded_conv_depthwise_relu (  (None, 100, 100, 32  0          ['expanded_conv_depthwise_BN[0][0\n",
      " ReLU)                          )                                ]']                              \n",
      "                                                                                                  \n",
      " expanded_conv_project (Conv2D)  (None, 100, 100, 16  512        ['expanded_conv_depthwise_relu[0]\n",
      "                                )                                [0]']                            \n",
      "                                                                                                  \n",
      " expanded_conv_project_BN (Batc  (None, 100, 100, 16  64         ['expanded_conv_project[0][0]']  \n",
      " hNormalization)                )                                                                 \n",
      "                                                                                                  \n",
      " block_1_expand (Conv2D)        (None, 100, 100, 96  1536        ['expanded_conv_project_BN[0][0]'\n",
      "                                )                                ]                                \n",
      "                                                                                                  \n",
      " block_1_expand_BN (BatchNormal  (None, 100, 100, 96  384        ['block_1_expand[0][0]']         \n",
      " ization)                       )                                                                 \n",
      "                                                                                                  \n",
      " block_1_expand_relu (ReLU)     (None, 100, 100, 96  0           ['block_1_expand_BN[0][0]']      \n",
      "                                )                                                                 \n",
      "                                                                                                  \n",
      " block_1_pad (ZeroPadding2D)    (None, 101, 101, 96  0           ['block_1_expand_relu[0][0]']    \n",
      "                                )                                                                 \n",
      "                                                                                                  \n",
      " block_1_depthwise (DepthwiseCo  (None, 50, 50, 96)  864         ['block_1_pad[0][0]']            \n",
      " nv2D)                                                                                            \n",
      "                                                                                                  \n",
      " block_1_depthwise_BN (BatchNor  (None, 50, 50, 96)  384         ['block_1_depthwise[0][0]']      \n",
      " malization)                                                                                      \n",
      "                                                                                                  \n",
      " block_1_depthwise_relu (ReLU)  (None, 50, 50, 96)   0           ['block_1_depthwise_BN[0][0]']   \n",
      "                                                                                                  \n",
      " block_1_project (Conv2D)       (None, 50, 50, 24)   2304        ['block_1_depthwise_relu[0][0]'] \n",
      "                                                                                                  \n",
      " block_1_project_BN (BatchNorma  (None, 50, 50, 24)  96          ['block_1_project[0][0]']        \n",
      " lization)                                                                                        \n",
      "                                                                                                  \n",
      " block_2_expand (Conv2D)        (None, 50, 50, 144)  3456        ['block_1_project_BN[0][0]']     \n",
      "                                                                                                  \n",
      " block_2_expand_BN (BatchNormal  (None, 50, 50, 144)  576        ['block_2_expand[0][0]']         \n",
      " ization)                                                                                         \n",
      "                                                                                                  \n",
      " block_2_expand_relu (ReLU)     (None, 50, 50, 144)  0           ['block_2_expand_BN[0][0]']      \n",
      "                                                                                                  \n",
      " block_2_depthwise (DepthwiseCo  (None, 50, 50, 144)  1296       ['block_2_expand_relu[0][0]']    \n",
      " nv2D)                                                                                            \n",
      "                                                                                                  \n",
      " block_2_depthwise_BN (BatchNor  (None, 50, 50, 144)  576        ['block_2_depthwise[0][0]']      \n",
      " malization)                                                                                      \n",
      "                                                                                                  \n",
      " block_2_depthwise_relu (ReLU)  (None, 50, 50, 144)  0           ['block_2_depthwise_BN[0][0]']   \n",
      "                                                                                                  \n",
      " block_2_project (Conv2D)       (None, 50, 50, 24)   3456        ['block_2_depthwise_relu[0][0]'] \n",
      "                                                                                                  \n",
      " block_2_project_BN (BatchNorma  (None, 50, 50, 24)  96          ['block_2_project[0][0]']        \n",
      " lization)                                                                                        \n",
      "                                                                                                  \n",
      " block_2_add (Add)              (None, 50, 50, 24)   0           ['block_1_project_BN[0][0]',     \n",
      "                                                                  'block_2_project_BN[0][0]']     \n",
      "                                                                                                  \n",
      " block_3_expand (Conv2D)        (None, 50, 50, 144)  3456        ['block_2_add[0][0]']            \n",
      "                                                                                                  \n",
      " block_3_expand_BN (BatchNormal  (None, 50, 50, 144)  576        ['block_3_expand[0][0]']         \n",
      " ization)                                                                                         \n",
      "                                                                                                  \n",
      " block_3_expand_relu (ReLU)     (None, 50, 50, 144)  0           ['block_3_expand_BN[0][0]']      \n",
      "                                                                                                  \n",
      " block_3_pad (ZeroPadding2D)    (None, 51, 51, 144)  0           ['block_3_expand_relu[0][0]']    \n",
      "                                                                                                  \n",
      " block_3_depthwise (DepthwiseCo  (None, 25, 25, 144)  1296       ['block_3_pad[0][0]']            \n",
      " nv2D)                                                                                            \n",
      "                                                                                                  \n",
      " block_3_depthwise_BN (BatchNor  (None, 25, 25, 144)  576        ['block_3_depthwise[0][0]']      \n",
      " malization)                                                                                      \n",
      "                                                                                                  \n",
      " block_3_depthwise_relu (ReLU)  (None, 25, 25, 144)  0           ['block_3_depthwise_BN[0][0]']   \n",
      "                                                                                                  \n",
      " block_3_project (Conv2D)       (None, 25, 25, 32)   4608        ['block_3_depthwise_relu[0][0]'] \n",
      "                                                                                                  \n",
      " block_3_project_BN (BatchNorma  (None, 25, 25, 32)  128         ['block_3_project[0][0]']        \n",
      " lization)                                                                                        \n",
      "                                                                                                  \n",
      " block_4_expand (Conv2D)        (None, 25, 25, 192)  6144        ['block_3_project_BN[0][0]']     \n",
      "                                                                                                  \n",
      " block_4_expand_BN (BatchNormal  (None, 25, 25, 192)  768        ['block_4_expand[0][0]']         \n",
      " ization)                                                                                         \n",
      "                                                                                                  \n",
      " block_4_expand_relu (ReLU)     (None, 25, 25, 192)  0           ['block_4_expand_BN[0][0]']      \n",
      "                                                                                                  \n",
      " block_4_depthwise (DepthwiseCo  (None, 25, 25, 192)  1728       ['block_4_expand_relu[0][0]']    \n",
      " nv2D)                                                                                            \n",
      "                                                                                                  \n",
      " block_4_depthwise_BN (BatchNor  (None, 25, 25, 192)  768        ['block_4_depthwise[0][0]']      \n",
      " malization)                                                                                      \n",
      "                                                                                                  \n",
      " block_4_depthwise_relu (ReLU)  (None, 25, 25, 192)  0           ['block_4_depthwise_BN[0][0]']   \n",
      "                                                                                                  \n",
      " block_4_project (Conv2D)       (None, 25, 25, 32)   6144        ['block_4_depthwise_relu[0][0]'] \n",
      "                                                                                                  \n",
      " block_4_project_BN (BatchNorma  (None, 25, 25, 32)  128         ['block_4_project[0][0]']        \n",
      " lization)                                                                                        \n",
      "                                                                                                  \n",
      " block_4_add (Add)              (None, 25, 25, 32)   0           ['block_3_project_BN[0][0]',     \n",
      "                                                                  'block_4_project_BN[0][0]']     \n",
      "                                                                                                  \n",
      " block_5_expand (Conv2D)        (None, 25, 25, 192)  6144        ['block_4_add[0][0]']            \n",
      "                                                                                                  \n",
      " block_5_expand_BN (BatchNormal  (None, 25, 25, 192)  768        ['block_5_expand[0][0]']         \n",
      " ization)                                                                                         \n",
      "                                                                                                  \n",
      " block_5_expand_relu (ReLU)     (None, 25, 25, 192)  0           ['block_5_expand_BN[0][0]']      \n",
      "                                                                                                  \n",
      " block_5_depthwise (DepthwiseCo  (None, 25, 25, 192)  1728       ['block_5_expand_relu[0][0]']    \n",
      " nv2D)                                                                                            \n",
      "                                                                                                  \n",
      " block_5_depthwise_BN (BatchNor  (None, 25, 25, 192)  768        ['block_5_depthwise[0][0]']      \n",
      " malization)                                                                                      \n",
      "                                                                                                  \n",
      " block_5_depthwise_relu (ReLU)  (None, 25, 25, 192)  0           ['block_5_depthwise_BN[0][0]']   \n",
      "                                                                                                  \n",
      " block_5_project (Conv2D)       (None, 25, 25, 32)   6144        ['block_5_depthwise_relu[0][0]'] \n",
      "                                                                                                  \n",
      " block_5_project_BN (BatchNorma  (None, 25, 25, 32)  128         ['block_5_project[0][0]']        \n",
      " lization)                                                                                        \n",
      "                                                                                                  \n",
      " block_5_add (Add)              (None, 25, 25, 32)   0           ['block_4_add[0][0]',            \n",
      "                                                                  'block_5_project_BN[0][0]']     \n",
      "                                                                                                  \n",
      " block_6_expand (Conv2D)        (None, 25, 25, 192)  6144        ['block_5_add[0][0]']            \n",
      "                                                                                                  \n",
      " block_6_expand_BN (BatchNormal  (None, 25, 25, 192)  768        ['block_6_expand[0][0]']         \n",
      " ization)                                                                                         \n",
      "                                                                                                  \n",
      " block_6_expand_relu (ReLU)     (None, 25, 25, 192)  0           ['block_6_expand_BN[0][0]']      \n",
      "                                                                                                  \n",
      " block_6_pad (ZeroPadding2D)    (None, 27, 27, 192)  0           ['block_6_expand_relu[0][0]']    \n",
      "                                                                                                  \n",
      " block_6_depthwise (DepthwiseCo  (None, 13, 13, 192)  1728       ['block_6_pad[0][0]']            \n",
      " nv2D)                                                                                            \n",
      "                                                                                                  \n",
      " block_6_depthwise_BN (BatchNor  (None, 13, 13, 192)  768        ['block_6_depthwise[0][0]']      \n",
      " malization)                                                                                      \n",
      "                                                                                                  \n",
      " block_6_depthwise_relu (ReLU)  (None, 13, 13, 192)  0           ['block_6_depthwise_BN[0][0]']   \n",
      "                                                                                                  \n",
      " block_6_project (Conv2D)       (None, 13, 13, 64)   12288       ['block_6_depthwise_relu[0][0]'] \n",
      "                                                                                                  \n",
      " block_6_project_BN (BatchNorma  (None, 13, 13, 64)  256         ['block_6_project[0][0]']        \n",
      " lization)                                                                                        \n",
      "                                                                                                  \n",
      " block_7_expand (Conv2D)        (None, 13, 13, 384)  24576       ['block_6_project_BN[0][0]']     \n",
      "                                                                                                  \n",
      " block_7_expand_BN (BatchNormal  (None, 13, 13, 384)  1536       ['block_7_expand[0][0]']         \n",
      " ization)                                                                                         \n",
      "                                                                                                  \n",
      " block_7_expand_relu (ReLU)     (None, 13, 13, 384)  0           ['block_7_expand_BN[0][0]']      \n",
      "                                                                                                  \n",
      " block_7_depthwise (DepthwiseCo  (None, 13, 13, 384)  3456       ['block_7_expand_relu[0][0]']    \n",
      " nv2D)                                                                                            \n",
      "                                                                                                  \n",
      " block_7_depthwise_BN (BatchNor  (None, 13, 13, 384)  1536       ['block_7_depthwise[0][0]']      \n",
      " malization)                                                                                      \n",
      "                                                                                                  \n",
      " block_7_depthwise_relu (ReLU)  (None, 13, 13, 384)  0           ['block_7_depthwise_BN[0][0]']   \n",
      "                                                                                                  \n",
      " block_7_project (Conv2D)       (None, 13, 13, 64)   24576       ['block_7_depthwise_relu[0][0]'] \n",
      "                                                                                                  \n",
      " block_7_project_BN (BatchNorma  (None, 13, 13, 64)  256         ['block_7_project[0][0]']        \n",
      " lization)                                                                                        \n",
      "                                                                                                  \n",
      " block_7_add (Add)              (None, 13, 13, 64)   0           ['block_6_project_BN[0][0]',     \n",
      "                                                                  'block_7_project_BN[0][0]']     \n",
      "                                                                                                  \n",
      " block_8_expand (Conv2D)        (None, 13, 13, 384)  24576       ['block_7_add[0][0]']            \n",
      "                                                                                                  \n",
      " block_8_expand_BN (BatchNormal  (None, 13, 13, 384)  1536       ['block_8_expand[0][0]']         \n",
      " ization)                                                                                         \n",
      "                                                                                                  \n",
      " block_8_expand_relu (ReLU)     (None, 13, 13, 384)  0           ['block_8_expand_BN[0][0]']      \n",
      "                                                                                                  \n",
      " block_8_depthwise (DepthwiseCo  (None, 13, 13, 384)  3456       ['block_8_expand_relu[0][0]']    \n",
      " nv2D)                                                                                            \n",
      "                                                                                                  \n",
      " block_8_depthwise_BN (BatchNor  (None, 13, 13, 384)  1536       ['block_8_depthwise[0][0]']      \n",
      " malization)                                                                                      \n",
      "                                                                                                  \n",
      " block_8_depthwise_relu (ReLU)  (None, 13, 13, 384)  0           ['block_8_depthwise_BN[0][0]']   \n",
      "                                                                                                  \n",
      " block_8_project (Conv2D)       (None, 13, 13, 64)   24576       ['block_8_depthwise_relu[0][0]'] \n",
      "                                                                                                  \n",
      " block_8_project_BN (BatchNorma  (None, 13, 13, 64)  256         ['block_8_project[0][0]']        \n",
      " lization)                                                                                        \n",
      "                                                                                                  \n",
      " block_8_add (Add)              (None, 13, 13, 64)   0           ['block_7_add[0][0]',            \n",
      "                                                                  'block_8_project_BN[0][0]']     \n",
      "                                                                                                  \n",
      " block_9_expand (Conv2D)        (None, 13, 13, 384)  24576       ['block_8_add[0][0]']            \n",
      "                                                                                                  \n",
      " block_9_expand_BN (BatchNormal  (None, 13, 13, 384)  1536       ['block_9_expand[0][0]']         \n",
      " ization)                                                                                         \n",
      "                                                                                                  \n",
      " block_9_expand_relu (ReLU)     (None, 13, 13, 384)  0           ['block_9_expand_BN[0][0]']      \n",
      "                                                                                                  \n",
      " block_9_depthwise (DepthwiseCo  (None, 13, 13, 384)  3456       ['block_9_expand_relu[0][0]']    \n",
      " nv2D)                                                                                            \n",
      "                                                                                                  \n",
      " block_9_depthwise_BN (BatchNor  (None, 13, 13, 384)  1536       ['block_9_depthwise[0][0]']      \n",
      " malization)                                                                                      \n",
      "                                                                                                  \n",
      " block_9_depthwise_relu (ReLU)  (None, 13, 13, 384)  0           ['block_9_depthwise_BN[0][0]']   \n",
      "                                                                                                  \n",
      " block_9_project (Conv2D)       (None, 13, 13, 64)   24576       ['block_9_depthwise_relu[0][0]'] \n",
      "                                                                                                  \n",
      " block_9_project_BN (BatchNorma  (None, 13, 13, 64)  256         ['block_9_project[0][0]']        \n",
      " lization)                                                                                        \n",
      "                                                                                                  \n",
      " block_9_add (Add)              (None, 13, 13, 64)   0           ['block_8_add[0][0]',            \n",
      "                                                                  'block_9_project_BN[0][0]']     \n",
      "                                                                                                  \n",
      " block_10_expand (Conv2D)       (None, 13, 13, 384)  24576       ['block_9_add[0][0]']            \n",
      "                                                                                                  \n",
      " block_10_expand_BN (BatchNorma  (None, 13, 13, 384)  1536       ['block_10_expand[0][0]']        \n",
      " lization)                                                                                        \n",
      "                                                                                                  \n",
      " block_10_expand_relu (ReLU)    (None, 13, 13, 384)  0           ['block_10_expand_BN[0][0]']     \n",
      "                                                                                                  \n",
      " block_10_depthwise (DepthwiseC  (None, 13, 13, 384)  3456       ['block_10_expand_relu[0][0]']   \n",
      " onv2D)                                                                                           \n",
      "                                                                                                  \n",
      " block_10_depthwise_BN (BatchNo  (None, 13, 13, 384)  1536       ['block_10_depthwise[0][0]']     \n",
      " rmalization)                                                                                     \n",
      "                                                                                                  \n",
      " block_10_depthwise_relu (ReLU)  (None, 13, 13, 384)  0          ['block_10_depthwise_BN[0][0]']  \n",
      "                                                                                                  \n",
      " block_10_project (Conv2D)      (None, 13, 13, 96)   36864       ['block_10_depthwise_relu[0][0]']\n",
      "                                                                                                  \n",
      " block_10_project_BN (BatchNorm  (None, 13, 13, 96)  384         ['block_10_project[0][0]']       \n",
      " alization)                                                                                       \n",
      "                                                                                                  \n",
      " block_11_expand (Conv2D)       (None, 13, 13, 576)  55296       ['block_10_project_BN[0][0]']    \n",
      "                                                                                                  \n",
      " block_11_expand_BN (BatchNorma  (None, 13, 13, 576)  2304       ['block_11_expand[0][0]']        \n",
      " lization)                                                                                        \n",
      "                                                                                                  \n",
      " block_11_expand_relu (ReLU)    (None, 13, 13, 576)  0           ['block_11_expand_BN[0][0]']     \n",
      "                                                                                                  \n",
      " block_11_depthwise (DepthwiseC  (None, 13, 13, 576)  5184       ['block_11_expand_relu[0][0]']   \n",
      " onv2D)                                                                                           \n",
      "                                                                                                  \n",
      " block_11_depthwise_BN (BatchNo  (None, 13, 13, 576)  2304       ['block_11_depthwise[0][0]']     \n",
      " rmalization)                                                                                     \n",
      "                                                                                                  \n",
      " block_11_depthwise_relu (ReLU)  (None, 13, 13, 576)  0          ['block_11_depthwise_BN[0][0]']  \n",
      "                                                                                                  \n",
      " block_11_project (Conv2D)      (None, 13, 13, 96)   55296       ['block_11_depthwise_relu[0][0]']\n",
      "                                                                                                  \n",
      " block_11_project_BN (BatchNorm  (None, 13, 13, 96)  384         ['block_11_project[0][0]']       \n",
      " alization)                                                                                       \n",
      "                                                                                                  \n",
      " block_11_add (Add)             (None, 13, 13, 96)   0           ['block_10_project_BN[0][0]',    \n",
      "                                                                  'block_11_project_BN[0][0]']    \n",
      "                                                                                                  \n",
      " block_12_expand (Conv2D)       (None, 13, 13, 576)  55296       ['block_11_add[0][0]']           \n",
      "                                                                                                  \n",
      " block_12_expand_BN (BatchNorma  (None, 13, 13, 576)  2304       ['block_12_expand[0][0]']        \n",
      " lization)                                                                                        \n",
      "                                                                                                  \n",
      " block_12_expand_relu (ReLU)    (None, 13, 13, 576)  0           ['block_12_expand_BN[0][0]']     \n",
      "                                                                                                  \n",
      " block_12_depthwise (DepthwiseC  (None, 13, 13, 576)  5184       ['block_12_expand_relu[0][0]']   \n",
      " onv2D)                                                                                           \n",
      "                                                                                                  \n",
      " block_12_depthwise_BN (BatchNo  (None, 13, 13, 576)  2304       ['block_12_depthwise[0][0]']     \n",
      " rmalization)                                                                                     \n",
      "                                                                                                  \n",
      " block_12_depthwise_relu (ReLU)  (None, 13, 13, 576)  0          ['block_12_depthwise_BN[0][0]']  \n",
      "                                                                                                  \n",
      " block_12_project (Conv2D)      (None, 13, 13, 96)   55296       ['block_12_depthwise_relu[0][0]']\n",
      "                                                                                                  \n",
      " block_12_project_BN (BatchNorm  (None, 13, 13, 96)  384         ['block_12_project[0][0]']       \n",
      " alization)                                                                                       \n",
      "                                                                                                  \n",
      " block_12_add (Add)             (None, 13, 13, 96)   0           ['block_11_add[0][0]',           \n",
      "                                                                  'block_12_project_BN[0][0]']    \n",
      "                                                                                                  \n",
      " block_13_expand (Conv2D)       (None, 13, 13, 576)  55296       ['block_12_add[0][0]']           \n",
      "                                                                                                  \n",
      " block_13_expand_BN (BatchNorma  (None, 13, 13, 576)  2304       ['block_13_expand[0][0]']        \n",
      " lization)                                                                                        \n",
      "                                                                                                  \n",
      " block_13_expand_relu (ReLU)    (None, 13, 13, 576)  0           ['block_13_expand_BN[0][0]']     \n",
      "                                                                                                  \n",
      " block_13_pad (ZeroPadding2D)   (None, 15, 15, 576)  0           ['block_13_expand_relu[0][0]']   \n",
      "                                                                                                  \n",
      " block_13_depthwise (DepthwiseC  (None, 7, 7, 576)   5184        ['block_13_pad[0][0]']           \n",
      " onv2D)                                                                                           \n",
      "                                                                                                  \n",
      " block_13_depthwise_BN (BatchNo  (None, 7, 7, 576)   2304        ['block_13_depthwise[0][0]']     \n",
      " rmalization)                                                                                     \n",
      "                                                                                                  \n",
      " block_13_depthwise_relu (ReLU)  (None, 7, 7, 576)   0           ['block_13_depthwise_BN[0][0]']  \n",
      "                                                                                                  \n",
      " block_13_project (Conv2D)      (None, 7, 7, 160)    92160       ['block_13_depthwise_relu[0][0]']\n",
      "                                                                                                  \n",
      " block_13_project_BN (BatchNorm  (None, 7, 7, 160)   640         ['block_13_project[0][0]']       \n",
      " alization)                                                                                       \n",
      "                                                                                                  \n",
      " block_14_expand (Conv2D)       (None, 7, 7, 960)    153600      ['block_13_project_BN[0][0]']    \n",
      "                                                                                                  \n",
      " block_14_expand_BN (BatchNorma  (None, 7, 7, 960)   3840        ['block_14_expand[0][0]']        \n",
      " lization)                                                                                        \n",
      "                                                                                                  \n",
      " block_14_expand_relu (ReLU)    (None, 7, 7, 960)    0           ['block_14_expand_BN[0][0]']     \n",
      "                                                                                                  \n",
      " block_14_depthwise (DepthwiseC  (None, 7, 7, 960)   8640        ['block_14_expand_relu[0][0]']   \n",
      " onv2D)                                                                                           \n",
      "                                                                                                  \n",
      " block_14_depthwise_BN (BatchNo  (None, 7, 7, 960)   3840        ['block_14_depthwise[0][0]']     \n",
      " rmalization)                                                                                     \n",
      "                                                                                                  \n",
      " block_14_depthwise_relu (ReLU)  (None, 7, 7, 960)   0           ['block_14_depthwise_BN[0][0]']  \n",
      "                                                                                                  \n",
      " block_14_project (Conv2D)      (None, 7, 7, 160)    153600      ['block_14_depthwise_relu[0][0]']\n",
      "                                                                                                  \n",
      " block_14_project_BN (BatchNorm  (None, 7, 7, 160)   640         ['block_14_project[0][0]']       \n",
      " alization)                                                                                       \n",
      "                                                                                                  \n",
      " block_14_add (Add)             (None, 7, 7, 160)    0           ['block_13_project_BN[0][0]',    \n",
      "                                                                  'block_14_project_BN[0][0]']    \n",
      "                                                                                                  \n",
      " block_15_expand (Conv2D)       (None, 7, 7, 960)    153600      ['block_14_add[0][0]']           \n",
      "                                                                                                  \n",
      " block_15_expand_BN (BatchNorma  (None, 7, 7, 960)   3840        ['block_15_expand[0][0]']        \n",
      " lization)                                                                                        \n",
      "                                                                                                  \n",
      " block_15_expand_relu (ReLU)    (None, 7, 7, 960)    0           ['block_15_expand_BN[0][0]']     \n",
      "                                                                                                  \n",
      " block_15_depthwise (DepthwiseC  (None, 7, 7, 960)   8640        ['block_15_expand_relu[0][0]']   \n",
      " onv2D)                                                                                           \n",
      "                                                                                                  \n",
      " block_15_depthwise_BN (BatchNo  (None, 7, 7, 960)   3840        ['block_15_depthwise[0][0]']     \n",
      " rmalization)                                                                                     \n",
      "                                                                                                  \n",
      " block_15_depthwise_relu (ReLU)  (None, 7, 7, 960)   0           ['block_15_depthwise_BN[0][0]']  \n",
      "                                                                                                  \n",
      " block_15_project (Conv2D)      (None, 7, 7, 160)    153600      ['block_15_depthwise_relu[0][0]']\n",
      "                                                                                                  \n",
      " block_15_project_BN (BatchNorm  (None, 7, 7, 160)   640         ['block_15_project[0][0]']       \n",
      " alization)                                                                                       \n",
      "                                                                                                  \n",
      " block_15_add (Add)             (None, 7, 7, 160)    0           ['block_14_add[0][0]',           \n",
      "                                                                  'block_15_project_BN[0][0]']    \n",
      "                                                                                                  \n",
      " block_16_expand (Conv2D)       (None, 7, 7, 960)    153600      ['block_15_add[0][0]']           \n",
      "                                                                                                  \n",
      " block_16_expand_BN (BatchNorma  (None, 7, 7, 960)   3840        ['block_16_expand[0][0]']        \n",
      " lization)                                                                                        \n",
      "                                                                                                  \n",
      " block_16_expand_relu (ReLU)    (None, 7, 7, 960)    0           ['block_16_expand_BN[0][0]']     \n",
      "                                                                                                  \n",
      " block_16_depthwise (DepthwiseC  (None, 7, 7, 960)   8640        ['block_16_expand_relu[0][0]']   \n",
      " onv2D)                                                                                           \n",
      "                                                                                                  \n",
      " block_16_depthwise_BN (BatchNo  (None, 7, 7, 960)   3840        ['block_16_depthwise[0][0]']     \n",
      " rmalization)                                                                                     \n",
      "                                                                                                  \n",
      " block_16_depthwise_relu (ReLU)  (None, 7, 7, 960)   0           ['block_16_depthwise_BN[0][0]']  \n",
      "                                                                                                  \n",
      " block_16_project (Conv2D)      (None, 7, 7, 320)    307200      ['block_16_depthwise_relu[0][0]']\n",
      "                                                                                                  \n",
      " block_16_project_BN (BatchNorm  (None, 7, 7, 320)   1280        ['block_16_project[0][0]']       \n",
      " alization)                                                                                       \n",
      "                                                                                                  \n",
      " Conv_1 (Conv2D)                (None, 7, 7, 1280)   409600      ['block_16_project_BN[0][0]']    \n",
      "                                                                                                  \n",
      " Conv_1_bn (BatchNormalization)  (None, 7, 7, 1280)  5120        ['Conv_1[0][0]']                 \n",
      "                                                                                                  \n",
      " out_relu (ReLU)                (None, 7, 7, 1280)   0           ['Conv_1_bn[0][0]']              \n",
      "                                                                                                  \n",
      "==================================================================================================\n",
      "Total params: 2,257,984\n",
      "Trainable params: 2,223,872\n",
      "Non-trainable params: 34,112\n",
      "__________________________________________________________________________________________________\n"
     ]
    }
   ],
   "source": [
    "\n",
    "model.summary()"
   ]
  },
  {
   "cell_type": "code",
   "execution_count": null,
   "metadata": {
    "executionInfo": {
     "elapsed": 436,
     "status": "ok",
     "timestamp": 1648222166136,
     "user": {
      "displayName": "ismail önder",
      "photoUrl": "https://lh3.googleusercontent.com/a-/AOh14GgWzUV3jVAmHFE0RJ85WTC8Oqv2BUxb0u-46Lc=s64",
      "userId": "09025349113891357800"
     },
     "user_tz": -180
    },
    "gradient": {
     "execution_count": 31,
     "id": "f7b4be03-69a5-4e41-972b-0c5f4122065b",
     "kernelId": "3e5c5cc6-8e2a-4e8c-8c30-3c64f22fb7b5"
    },
    "id": "d6HOxywgXkpM"
   },
   "outputs": [],
   "source": [
    "# Batch Stats Collector that inherits Keras Callback\n",
    "class CollectBatchStats(tf.keras.callbacks.Callback):\n",
    "    def __init__(self):\n",
    "        self.batch_losses = []\n",
    "        self.batch_acc = []\n",
    "        self.batch_val_losses = []\n",
    "        self.batch_val_acc = []\n",
    "\n",
    "    def on_train_batch_end(self, batch, logs=None):\n",
    "        self.batch_losses.append(logs['loss'])\n",
    "        self.batch_acc.append(logs['acc'])\n",
    "        # reset_metrics: the metrics returned will be only for this batch. \n",
    "        # If False, the metrics will be statefully accumulated across batches.\n",
    "        self.model.reset_metrics()\n",
    "  \n",
    "    def on_test_batch_end(self, batch, logs=None):\n",
    "        self.batch_val_losses.append(logs['loss'])\n",
    "        self.batch_val_acc.append(logs['acc'])\n",
    "        # reset_metrics: the metrics returned will be only for this batch. \n",
    "        # If False, the metrics will be statefully accumulated across batches.\n",
    "        self.model.reset_metrics()\n",
    "\n",
    "# Plot learning curve \n",
    "def plot_stats(training_stats, val_stats, x_label='Training Steps', stats='loss'):\n",
    "    stats, x_label = stats.title(), x_label.title()\n",
    "    legend_loc = 'upper right' if stats=='loss' else 'lower right'\n",
    "    training_steps = len(training_stats)\n",
    "    test_steps = len(val_stats)\n",
    "\n",
    "    plt.figure()\n",
    "    plt.ylabel(stats)\n",
    "    plt.xlabel(x_label)\n",
    "    plt.plot(training_stats, label='Training ' + stats)\n",
    "    plt.plot(np.linspace(0, training_steps, test_steps), val_stats, label='Validation ' + stats)\n",
    "    plt.ylim([0,max(plt.ylim())])\n",
    "    plt.legend(loc=legend_loc)\n",
    "    plt.show()"
   ]
  },
  {
   "cell_type": "code",
   "execution_count": null,
   "metadata": {
    "executionInfo": {
     "elapsed": 416,
     "status": "ok",
     "timestamp": 1648223075224,
     "user": {
      "displayName": "ismail önder",
      "photoUrl": "https://lh3.googleusercontent.com/a-/AOh14GgWzUV3jVAmHFE0RJ85WTC8Oqv2BUxb0u-46Lc=s64",
      "userId": "09025349113891357800"
     },
     "user_tz": -180
    },
    "gradient": {
     "execution_count": 32,
     "id": "78645134-475f-4695-8668-c22809f682ab",
     "kernelId": "3e5c5cc6-8e2a-4e8c-8c30-3c64f22fb7b5"
    },
    "id": "W2iG4SIhlAu_"
   },
   "outputs": [],
   "source": [
    "from tensorflow.keras.optimizers import Adam"
   ]
  },
  {
   "cell_type": "code",
   "execution_count": null,
   "metadata": {
    "executionInfo": {
     "elapsed": 1,
     "status": "ok",
     "timestamp": 1648223076756,
     "user": {
      "displayName": "ismail önder",
      "photoUrl": "https://lh3.googleusercontent.com/a-/AOh14GgWzUV3jVAmHFE0RJ85WTC8Oqv2BUxb0u-46Lc=s64",
      "userId": "09025349113891357800"
     },
     "user_tz": -180
    },
    "gradient": {
     "execution_count": 33,
     "id": "e0029b82-63b7-4b26-a186-01f4b3ea28ca",
     "kernelId": "3e5c5cc6-8e2a-4e8c-8c30-3c64f22fb7b5"
    },
    "id": "eKpZ0z3xzhwg"
   },
   "outputs": [],
   "source": [
    "model.compile(loss='binary_crossentropy', optimizer=Adam(learning_rate = 0.005), metrics=['accuracy'])"
   ]
  },
  {
   "cell_type": "code",
   "execution_count": null,
   "metadata": {
    "gradient": {
     "id": "ef172a8b-f721-4fd1-99f9-32f959f91950",
     "kernelId": "3e5c5cc6-8e2a-4e8c-8c30-3c64f22fb7b5"
    },
    "id": "CwV9F52BlAvA"
   },
   "outputs": [],
   "source": [
    "#tf.compat.v1.disable_eager_execution()"
   ]
  },
  {
   "cell_type": "code",
   "execution_count": null,
   "metadata": {
    "colab": {
     "base_uri": "https://localhost:8080/"
    },
    "gradient": {
     "id": "587d4ccb-3a7a-457e-94d9-4be101ffa16a",
     "kernelId": "3e5c5cc6-8e2a-4e8c-8c30-3c64f22fb7b5"
    },
    "id": "Lt-nRdzkziRC",
    "outputId": "7dcff4f1-47e8-4995-96af-00dfb92259ca"
   },
   "outputs": [],
   "source": [
    "# Train model\n",
    "history = model.fit(x_train, y_train, batch_size=32, epochs=10, validation_data=(x_test, y_test))"
   ]
  },
  {
   "cell_type": "code",
   "execution_count": null,
   "metadata": {
    "colab": {
     "base_uri": "https://localhost:8080/",
     "height": 608
    },
    "executionInfo": {
     "elapsed": 1288,
     "status": "ok",
     "timestamp": 1648221869048,
     "user": {
      "displayName": "ismail önder",
      "photoUrl": "https://lh3.googleusercontent.com/a-/AOh14GgWzUV3jVAmHFE0RJ85WTC8Oqv2BUxb0u-46Lc=s64",
      "userId": "09025349113891357800"
     },
     "user_tz": -180
    },
    "gradient": {
     "execution_count": 37,
     "id": "95d88d53-b8b3-454f-ab30-dff629e2e7cb",
     "kernelId": "3e5c5cc6-8e2a-4e8c-8c30-3c64f22fb7b5"
    },
    "id": "BdUIb9aEX3Ar",
    "outputId": "2247ebc3-41d4-46e5-e70d-cc4e08afbf93"
   },
   "outputs": [],
   "source": [
    "plt.figure(figsize = (15, 10))\n",
    "\n",
    "plot_stats(history.history['loss'], history.history['val_loss'], x_label='Epochs', stats='loss')\n",
    "plot_stats(history.history['accuracy'], history.history['val_accuracy'], x_label='Epochs', stats='accuracy');"
   ]
  },
  {
   "cell_type": "code",
   "execution_count": null,
   "metadata": {
    "executionInfo": {
     "elapsed": 656,
     "status": "ok",
     "timestamp": 1648207335687,
     "user": {
      "displayName": "ismail önder",
      "photoUrl": "https://lh3.googleusercontent.com/a-/AOh14GgWzUV3jVAmHFE0RJ85WTC8Oqv2BUxb0u-46Lc=s64",
      "userId": "09025349113891357800"
     },
     "user_tz": -180
    },
    "gradient": {
     "execution_count": 49,
     "id": "a349d7c8-89f6-4802-ab5f-2e251b87ec5a",
     "kernelId": "3e5c5cc6-8e2a-4e8c-8c30-3c64f22fb7b5"
    },
    "id": "ANZPpV_mYIKO"
   },
   "outputs": [],
   "source": [
    "model.save('drive/MyDrive/Colab Notebooks/movie_poster2.h5')"
   ]
  },
  {
   "cell_type": "code",
   "execution_count": null,
   "metadata": {
    "executionInfo": {
     "elapsed": 2558,
     "status": "ok",
     "timestamp": 1648216559605,
     "user": {
      "displayName": "ismail önder",
      "photoUrl": "https://lh3.googleusercontent.com/a-/AOh14GgWzUV3jVAmHFE0RJ85WTC8Oqv2BUxb0u-46Lc=s64",
      "userId": "09025349113891357800"
     },
     "user_tz": -180
    },
    "gradient": {
     "execution_count": 54,
     "id": "df1f02c3-64a9-4c02-a4cf-d58ca904ec2d",
     "kernelId": "3e5c5cc6-8e2a-4e8c-8c30-3c64f22fb7b5"
    },
    "id": "6hZoEQfjHWDk"
   },
   "outputs": [],
   "source": [
    "model = tf.keras.models.load_model('drive/MyDrive/Colab Notebooks/AlexNetModel.h5')"
   ]
  },
  {
   "cell_type": "code",
   "execution_count": null,
   "metadata": {
    "executionInfo": {
     "elapsed": 443,
     "status": "ok",
     "timestamp": 1648216598758,
     "user": {
      "displayName": "ismail önder",
      "photoUrl": "https://lh3.googleusercontent.com/a-/AOh14GgWzUV3jVAmHFE0RJ85WTC8Oqv2BUxb0u-46Lc=s64",
      "userId": "09025349113891357800"
     },
     "user_tz": -180
    },
    "gradient": {
     "execution_count": 59,
     "id": "2f65de2d-d3fd-4bfe-9f73-015337a99f4d",
     "kernelId": "3e5c5cc6-8e2a-4e8c-8c30-3c64f22fb7b5"
    },
    "id": "g6CwiY9yT_nY"
   },
   "outputs": [],
   "source": [
    "IMG_SIZE = 350"
   ]
  },
  {
   "cell_type": "code",
   "execution_count": null,
   "metadata": {
    "executionInfo": {
     "elapsed": 3,
     "status": "ok",
     "timestamp": 1648216599410,
     "user": {
      "displayName": "ismail önder",
      "photoUrl": "https://lh3.googleusercontent.com/a-/AOh14GgWzUV3jVAmHFE0RJ85WTC8Oqv2BUxb0u-46Lc=s64",
      "userId": "09025349113891357800"
     },
     "user_tz": -180
    },
    "gradient": {
     "execution_count": 60,
     "id": "1d3af7f0-2ec2-4a92-9487-cb775cae8e71",
     "kernelId": "3e5c5cc6-8e2a-4e8c-8c30-3c64f22fb7b5"
    },
    "id": "RPNM1Ci2eH8O"
   },
   "outputs": [],
   "source": [
    "def show_prediction(title, df, model):\n",
    "    \n",
    "    # Get movie info\n",
    "    # imdbId = df.loc[df['Title']==title]['imdbId'].iloc[0]\n",
    "    # genre = df.loc[df['Title']==title]['Genre'].iloc[0]\n",
    "    # img_path = os.path.join(DATASET_RAW_PATH, str(imdbId)+'.jpg')\n",
    "\n",
    "    #\n",
    "    imdbId = df.loc[title]['imdbId']\n",
    "    genre = df.loc[title]['Genre']\n",
    "    img_path = os.path.join(DATASET_RAW_PATH, str(imdbId)+'.jpg')\n",
    "    #\n",
    "\n",
    "    img = cv2.imread(img_path)\n",
    "    #img = img / 255\n",
    "    img = cv2.resize(img, (IMG_SIZE,IMG_SIZE))\n",
    "    img = np.expand_dims(img, axis=0)\n",
    "    #\n",
    "    # Read and prepare image\n",
    "    # img = image.load_img(img_path, target_size=(IMG_SIZE,IMG_SIZE,3))\n",
    "    # img = image.img_to_array(img)\n",
    "    # img = img/255\n",
    "    # img = np.expand_dims(img, axis=0)\n",
    "\n",
    "    # Generate prediction\n",
    "    prediction = (model.predict(img) > 0.5).astype('int')\n",
    "    prediction = pd.Series(prediction[0])\n",
    "    prediction.index = mlb.classes_\n",
    "    prediction = prediction[prediction==1].index.values\n",
    "\n",
    "    # Dispaly image with prediction\n",
    "    style.use('default')\n",
    "    plt.figure(figsize=(8,4))\n",
    "    plt.imshow(Image.open(img_path))\n",
    "    plt.title('\\n\\n{}\\n\\nGenre\\n{}\\n\\nPrediction\\n{}\\n'.format(title, genre, list(prediction)), fontsize=9)\n",
    "    plt.show()"
   ]
  },
  {
   "cell_type": "markdown",
   "metadata": {
    "id": "Z2n5sHoLDfjJ"
   },
   "source": [
    "Let's check some predictions"
   ]
  },
  {
   "cell_type": "code",
   "execution_count": null,
   "metadata": {
    "colab": {
     "base_uri": "https://localhost:8080/",
     "height": 310
    },
    "executionInfo": {
     "elapsed": 1654,
     "status": "error",
     "timestamp": 1648216604020,
     "user": {
      "displayName": "ismail önder",
      "photoUrl": "https://lh3.googleusercontent.com/a-/AOh14GgWzUV3jVAmHFE0RJ85WTC8Oqv2BUxb0u-46Lc=s64",
      "userId": "09025349113891357800"
     },
     "user_tz": -180
    },
    "gradient": {
     "execution_count": 61,
     "id": "fb3821dd-2d43-412b-8155-37e22e402529",
     "kernelId": "3e5c5cc6-8e2a-4e8c-8c30-3c64f22fb7b5"
    },
    "id": "fo0uDEuPGM6Y",
    "outputId": "8536788b-8c51-45ba-dfa1-cf204c0fa480"
   },
   "outputs": [],
   "source": [
    "show_prediction(random.randint(0,1000), movie, model)\n"
   ]
  },
  {
   "cell_type": "code",
   "execution_count": null,
   "metadata": {
    "colab": {
     "base_uri": "https://localhost:8080/",
     "height": 1000
    },
    "executionInfo": {
     "elapsed": 4679,
     "status": "ok",
     "timestamp": 1648207615343,
     "user": {
      "displayName": "ismail önder",
      "photoUrl": "https://lh3.googleusercontent.com/a-/AOh14GgWzUV3jVAmHFE0RJ85WTC8Oqv2BUxb0u-46Lc=s64",
      "userId": "09025349113891357800"
     },
     "user_tz": -180
    },
    "gradient": {
     "execution_count": 57,
     "id": "741f662c-d30a-4b63-af2f-89f4e9d1844d",
     "kernelId": "3e5c5cc6-8e2a-4e8c-8c30-3c64f22fb7b5"
    },
    "id": "lAiyZWe4HS5Z",
    "outputId": "cdcda2a3-8cad-454a-9bc6-397972c18b54"
   },
   "outputs": [],
   "source": [
    "titles = [\"Toy Story (1995)\",\n",
    "          \"Captain America: The First Avenger (2011)\",\n",
    "          \"Stand by Me Doraemon (2014)\",\n",
    "          \"Titanic (1997)\",\n",
    "          \"Annabelle (2014)\",\n",
    "          \"Chef (2014)\"]\n",
    "\n",
    "for t in titles:\n",
    "    show_prediction(t, movie, model)"
   ]
  },
  {
   "cell_type": "markdown",
   "metadata": {
    "id": "HXQFXHlbluAV"
   },
   "source": [
    "## F1-score"
   ]
  },
  {
   "cell_type": "code",
   "execution_count": null,
   "metadata": {
    "gradient": {
     "id": "71229c29-f5f5-4bc3-95c7-7a7cc326ae1f",
     "kernelId": "3e5c5cc6-8e2a-4e8c-8c30-3c64f22fb7b5"
    },
    "id": "RX6VrrQCXW26"
   },
   "outputs": [],
   "source": [
    "@tf.function\n",
    "def macro_soft_f1(y, y_hat):\n",
    "    \"\"\"Compute the macro soft F1-score as a cost (average 1 - soft-F1 across all labels).\n",
    "    Use probability values instead of binary predictions.\n",
    "    \n",
    "    Args:\n",
    "        y (int32 Tensor): targets array of shape (BATCH_SIZE, N_LABELS)\n",
    "        y_hat (float32 Tensor): probability matrix from forward propagation of shape (BATCH_SIZE, N_LABELS)\n",
    "        \n",
    "    Returns:\n",
    "        cost (scalar Tensor): value of the cost function for the batch\n",
    "    \"\"\"\n",
    "    y = tf.cast(y, tf.float32)\n",
    "    y_hat = tf.cast(y_hat, tf.float32)\n",
    "    tp = tf.reduce_sum(y_hat * y, axis=0)\n",
    "    fp = tf.reduce_sum(y_hat * (1 - y), axis=0)\n",
    "    fn = tf.reduce_sum((1 - y_hat) * y, axis=0)\n",
    "    soft_f1 = 2*tp / (2*tp + fn + fp + 1e-16)\n",
    "    cost = 1 - soft_f1 # reduce 1 - soft-f1 in order to increase soft-f1\n",
    "    macro_cost = tf.reduce_mean(cost) # average on all labels\n",
    "    return macro_cost"
   ]
  },
  {
   "cell_type": "code",
   "execution_count": null,
   "metadata": {
    "gradient": {
     "id": "6706fe6b-62a0-4313-aa2d-3dd5cbcf765e",
     "kernelId": "3e5c5cc6-8e2a-4e8c-8c30-3c64f22fb7b5"
    },
    "id": "A-ZlYy6ww0y3"
   },
   "outputs": [],
   "source": [
    "@tf.function\n",
    "def macro_f1(y, y_hat, thresh=0.5):val_acc\n",
    "    \"\"\"Compute the macro F1-score on a batch of observations (average F1 across labels)\n",
    "    \n",
    "    Args:\n",
    "        y (int32 Tensor): labels array of shape (BATCH_SIZE, N_LABELS)\n",
    "        y_hat (float32 Tensor): probability matrix from forward propagation of shape (BATCH_SIZE, N_LABELS)\n",
    "        thresh: probability value above which we predict positive\n",
    "        \n",
    "    Returns:\n",
    "        macro_f1 (scalar Tensor): value of macro F1 for the batch\n",
    "    \"\"\"\n",
    "    y_pred = tf.cast(tf.greater(y_hat, thresh), tf.float32)\n",
    "    tp = tf.cast(tf.math.count_nonzero(y_pred * y, axis=0), tf.float32)\n",
    "    fp = tf.cast(tf.math.count_nonzero(y_pred * (1 - y), axis=0), tf.float32)\n",
    "    fn = tf.cast(tf.math.count_nonzero((1 - y_pred) * y, axis=0), tf.float32)\n",
    "    f1 = 2*tp / (2*tp + fn + fp + 1e-16)\n",
    "    macro_f1 = tf.reduce_mean(f1)\n",
    "    return macro_f1"
   ]
  },
  {
   "cell_type": "code",
   "execution_count": null,
   "metadata": {
    "gradient": {
     "id": "b2148b87-9033-4b6d-9ccd-c635675a3dbd",
     "kernelId": "3e5c5cc6-8e2a-4e8c-8c30-3c64f22fb7b5"
    },
    "id": "o2hMvBEzwrZU"
   },
   "outputs": [],
   "source": [
    "num_steps_train = tf.math.ceil(float(TRAIN_SAMPLES)/BATCH_SIZE)              \n",
    "num_steps_val = tf.math.ceil(float(VAL_SAMPLES)/BATCH_SIZE)\n",
    "\n",
    "model.compile(optimizer = 'adam',\n",
    "               loss = macro_soft_f1,\n",
    "               metrics = [macro_f1])"
   ]
  },
  {
   "cell_type": "code",
   "execution_count": null,
   "metadata": {
    "colab": {
     "base_uri": "https://localhost:8080/",
     "height": 485
    },
    "executionInfo": {
     "elapsed": 212723,
     "status": "ok",
     "timestamp": 1589167920907,
     "user": {
      "displayName": "An Dang Nguyen Thien",
      "photoUrl": "",
      "userId": "00573378252038101733"
     },
     "user_tz": -420
    },
    "gradient": {
     "id": "de8f81f1-d157-428f-8552-8f996300c05e",
     "kernelId": "3e5c5cc6-8e2a-4e8c-8c30-3c64f22fb7b5"
    },
    "id": "sRGsFDzVxKic",
    "outputId": "15352b64-db62-419d-8998-acb897b76253"
   },
   "outputs": [],
   "source": [
    "# Train model\n",
    "history = model.fit(train_ds,\n",
    "                  steps_per_epoch = num_steps_train,\n",
    "                  epochs = EPOCHS,\n",
    "                  validation_data = val_ds,\n",
    "                  validation_steps = num_steps_val,\n",
    "                  callbacks=[cp_callback, earlystop])"
   ]
  },
  {
   "cell_type": "code",
   "execution_count": null,
   "metadata": {
    "colab": {
     "base_uri": "https://localhost:8080/",
     "height": 609
    },
    "executionInfo": {
     "elapsed": 575,
     "status": "ok",
     "timestamp": 1589168364040,
     "user": {
      "displayName": "An Dang Nguyen Thien",
      "photoUrl": "",
      "userId": "00573378252038101733"
     },
     "user_tz": -420
    },
    "gradient": {
     "id": "f7168ce4-e03b-4248-8e3f-881a1281e20f",
     "kernelId": "3e5c5cc6-8e2a-4e8c-8c30-3c64f22fb7b5"
    },
    "id": "A0n7x5Mfxc3u",
    "outputId": "ee0d24ae-bc92-4fe4-9e97-11ec075321e4"
   },
   "outputs": [],
   "source": [
    "plt.figure(figsize = (15, 10))\n",
    "\n",
    "plot_stats(history.history['loss'], history.history['val_loss'], x_label='Epochs', stats='loss')\n",
    "plot_stats(history.history['macro_f1'], history.history['val_macro_f1'], x_label='Epochs', stats='macro_F1_score');"
   ]
  },
  {
   "cell_type": "code",
   "execution_count": null,
   "metadata": {
    "colab": {
     "base_uri": "https://localhost:8080/",
     "height": 1000
    },
    "executionInfo": {
     "elapsed": 2600,
     "status": "ok",
     "timestamp": 1589168677397,
     "user": {
      "displayName": "An Dang Nguyen Thien",
      "photoUrl": "",
      "userId": "00573378252038101733"
     },
     "user_tz": -420
    },
    "gradient": {
     "id": "2995eb27-77f3-4b92-84c8-ffbc59cf3046",
     "kernelId": "3e5c5cc6-8e2a-4e8c-8c30-3c64f22fb7b5"
    },
    "id": "mT-UwnCE1ZAI",
    "outputId": "0fa0d96c-4352-42f0-9dac-1760a6dc1b23"
   },
   "outputs": [],
   "source": [
    "titles = [\"Toy Story (1995)\",\n",
    "          \"Captain America: The First Avenger (2011)\",\n",
    "          \"Stand by Me Doraemon (2014)\",\n",
    "          \"Titanic (1997)\",\n",
    "          \"Annabelle (2014)\",\n",
    "          \"Chef (2014)\"]\n",
    "\n",
    "for t in titles:\n",
    "    show_prediction(t, movie, model)"
   ]
  },
  {
   "cell_type": "code",
   "execution_count": null,
   "metadata": {
    "gradient": {
     "id": "7955a180-9e80-4eb2-a818-6da9f066a182",
     "kernelId": "3e5c5cc6-8e2a-4e8c-8c30-3c64f22fb7b5"
    },
    "id": "tURBrreeZzJ6"
   },
   "outputs": [],
   "source": []
  }
 ],
 "metadata": {
  "accelerator": "GPU",
  "colab": {
   "collapsed_sections": [],
   "name": "Movie_Poster-Copy1.ipynb",
   "provenance": [
    {
     "file_id": "12sHMNhGPjCCLqLEd77PaFr0YF9k3u3Mi",
     "timestamp": 1588955658606
    },
    {
     "file_id": "1SdzfZ8c48tcn0sviqsuPA6pmENIsJcVd",
     "timestamp": 1588859635551
    }
   ]
  },
  "environment": {
   "name": "tf2-cpu.2-1.m47",
   "type": "gcloud",
   "uri": "gcr.io/deeplearning-platform-release/tf2-cpu.2-1:m47"
  },
  "kernelspec": {
   "display_name": "Python 3 (ipykernel)",
   "language": "python",
   "name": "python3"
  },
  "language_info": {
   "codemirror_mode": {
    "name": "ipython",
    "version": 3
   },
   "file_extension": ".py",
   "mimetype": "text/x-python",
   "name": "python",
   "nbconvert_exporter": "python",
   "pygments_lexer": "ipython3",
   "version": "3.8.12"
  }
 },
 "nbformat": 4,
 "nbformat_minor": 4
}
